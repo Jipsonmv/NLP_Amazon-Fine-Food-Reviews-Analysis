{
  "cells": [
    {
      "cell_type": "markdown",
      "metadata": {
        "id": "sV7sFD5IcHNm"
      },
      "source": [
        "<img src=\"data:image/jpeg;base64,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\" width=\"450\" height=\"550\">\n",
        "# Amazon Fine Food Reviews Analysis\n",
        "\n",
        "\n",
        "Data Source: https://www.kaggle.com/snap/amazon-fine-food-reviews\n",
        "\n",
        "\n",
        "<h4> Objective:</h4>\n",
        "Given a review, determine whether the review is positive or negative.\n",
        "\n",
        "<h4><li>How to determine if a review is positive or negative?</li></h4>\n",
        "We could use the Score/Rating. A rating of 4 or 5 could be cosnidered a positive review. A review of 1 or 2 could be considered negative. A review of 3 is nuetral and ignored. This is an approximate and proxy way of determining the polarity (positivity/negativity) of a review.\n",
        "\n",
        "\n",
        "<h1>Dataset</h1><br>\n",
        "This dataset consists of reviews of fine foods from amazon. The data span a period of more than 10 years, including all ~500,000 reviews up to October 2012. Reviews include product and user information, ratings, and a plain text review. It also includes reviews from all other Amazon categories.\n",
        "\n",
        "<h4>Attribute Information:</h4>\n",
        "\n",
        "There are a total of 10 columns in total in the Amazon Fine Food review dataset.\n",
        "\n",
        "- Id :  Row Id\n",
        "- ProductId : Unique identifier for the product.\n",
        "- UserId : Unique identifier for the user.\n",
        "- ProfileName : Profile Name of the User.\n",
        "- HelpfulnessNumerator : Number of users who found the review            helpful.\n",
        "- HelpfulnessDenominator : Number of users who indicated whether they found the review helpful or not.\n",
        "- Score : Rating between 1 and 5.\n",
        "- Time : Timestamp for the review.\n",
        "- Summary : Brief summary of the review.\n",
        "- Text : Text of the review."
      ]
    },
    {
      "cell_type": "markdown",
      "metadata": {
        "id": "N9ulVDlxcHNx"
      },
      "source": [
        "### Importing the necessary libraries."
      ]
    },
    {
      "cell_type": "code",
      "execution_count": 37,
      "metadata": {
        "id": "ydLwnQkgcHNy"
      },
      "outputs": [],
      "source": [
        "import pandas as pd\n",
        "import numpy as np\n",
        "import sqlite3\n",
        "import seaborn as sns\n",
        "import matplotlib.pyplot as plt\n",
        "%matplotlib inline\n",
        "sns.set(style='white', color_codes=True)\n",
        "\n",
        "import warnings\n",
        "warnings.filterwarnings(\"ignore\")"
      ]
    },
    {
      "cell_type": "markdown",
      "metadata": {
        "id": "4PMrrq5HcHNz"
      },
      "source": [
        "### Loading the data"
      ]
    },
    {
      "cell_type": "code",
      "source": [
        "from google.colab import drive\n",
        "drive.mount('/content/drive')"
      ],
      "metadata": {
        "colab": {
          "base_uri": "https://localhost:8080/"
        },
        "id": "v4dbFU4f2hIC",
        "outputId": "5faa5b92-f77e-475d-fcc5-e0e6178a698d"
      },
      "execution_count": 38,
      "outputs": [
        {
          "output_type": "stream",
          "name": "stdout",
          "text": [
            "Drive already mounted at /content/drive; to attempt to forcibly remount, call drive.mount(\"/content/drive\", force_remount=True).\n"
          ]
        }
      ]
    },
    {
      "cell_type": "code",
      "execution_count": 39,
      "metadata": {
        "id": "HfALDDc8cHN0"
      },
      "outputs": [],
      "source": [
        "con_rev = pd.read_csv('/content/drive/MyDrive/Tech_I.S/csv_files/Reviews.csv')"
      ]
    },
    {
      "cell_type": "code",
      "execution_count": 40,
      "metadata": {
        "id": "Rh1q1hLicHN1",
        "colab": {
          "base_uri": "https://localhost:8080/",
          "height": 320
        },
        "outputId": "a4568078-2d45-4a39-f5a4-ccb2a02f4cae"
      },
      "outputs": [
        {
          "output_type": "execute_result",
          "data": {
            "text/plain": [
              "   Id   ProductId          UserId                      ProfileName  \\\n",
              "0   1  B001E4KFG0  A3SGXH7AUHU8GW                       delmartian   \n",
              "1   2  B00813GRG4  A1D87F6ZCVE5NK                           dll pa   \n",
              "2   3  B000LQOCH0   ABXLMWJIXXAIN  Natalia Corres \"Natalia Corres\"   \n",
              "3   4  B000UA0QIQ  A395BORC6FGVXV                             Karl   \n",
              "4   5  B006K2ZZ7K  A1UQRSCLF8GW1T    Michael D. Bigham \"M. Wassir\"   \n",
              "\n",
              "   HelpfulnessNumerator  HelpfulnessDenominator  Score        Time  \\\n",
              "0                     1                       1      5  1303862400   \n",
              "1                     0                       0      1  1346976000   \n",
              "2                     1                       1      4  1219017600   \n",
              "3                     3                       3      2  1307923200   \n",
              "4                     0                       0      5  1350777600   \n",
              "\n",
              "                 Summary                                               Text  \n",
              "0  Good Quality Dog Food  I have bought several of the Vitality canned d...  \n",
              "1      Not as Advertised  Product arrived labeled as Jumbo Salted Peanut...  \n",
              "2  \"Delight\" says it all  This is a confection that has been around a fe...  \n",
              "3         Cough Medicine  If you are looking for the secret ingredient i...  \n",
              "4            Great taffy  Great taffy at a great price.  There was a wid...  "
            ],
            "text/html": [
              "\n",
              "  <div id=\"df-9a84a11c-d072-48f9-b763-3983ff34aee0\">\n",
              "    <div class=\"colab-df-container\">\n",
              "      <div>\n",
              "<style scoped>\n",
              "    .dataframe tbody tr th:only-of-type {\n",
              "        vertical-align: middle;\n",
              "    }\n",
              "\n",
              "    .dataframe tbody tr th {\n",
              "        vertical-align: top;\n",
              "    }\n",
              "\n",
              "    .dataframe thead th {\n",
              "        text-align: right;\n",
              "    }\n",
              "</style>\n",
              "<table border=\"1\" class=\"dataframe\">\n",
              "  <thead>\n",
              "    <tr style=\"text-align: right;\">\n",
              "      <th></th>\n",
              "      <th>Id</th>\n",
              "      <th>ProductId</th>\n",
              "      <th>UserId</th>\n",
              "      <th>ProfileName</th>\n",
              "      <th>HelpfulnessNumerator</th>\n",
              "      <th>HelpfulnessDenominator</th>\n",
              "      <th>Score</th>\n",
              "      <th>Time</th>\n",
              "      <th>Summary</th>\n",
              "      <th>Text</th>\n",
              "    </tr>\n",
              "  </thead>\n",
              "  <tbody>\n",
              "    <tr>\n",
              "      <th>0</th>\n",
              "      <td>1</td>\n",
              "      <td>B001E4KFG0</td>\n",
              "      <td>A3SGXH7AUHU8GW</td>\n",
              "      <td>delmartian</td>\n",
              "      <td>1</td>\n",
              "      <td>1</td>\n",
              "      <td>5</td>\n",
              "      <td>1303862400</td>\n",
              "      <td>Good Quality Dog Food</td>\n",
              "      <td>I have bought several of the Vitality canned d...</td>\n",
              "    </tr>\n",
              "    <tr>\n",
              "      <th>1</th>\n",
              "      <td>2</td>\n",
              "      <td>B00813GRG4</td>\n",
              "      <td>A1D87F6ZCVE5NK</td>\n",
              "      <td>dll pa</td>\n",
              "      <td>0</td>\n",
              "      <td>0</td>\n",
              "      <td>1</td>\n",
              "      <td>1346976000</td>\n",
              "      <td>Not as Advertised</td>\n",
              "      <td>Product arrived labeled as Jumbo Salted Peanut...</td>\n",
              "    </tr>\n",
              "    <tr>\n",
              "      <th>2</th>\n",
              "      <td>3</td>\n",
              "      <td>B000LQOCH0</td>\n",
              "      <td>ABXLMWJIXXAIN</td>\n",
              "      <td>Natalia Corres \"Natalia Corres\"</td>\n",
              "      <td>1</td>\n",
              "      <td>1</td>\n",
              "      <td>4</td>\n",
              "      <td>1219017600</td>\n",
              "      <td>\"Delight\" says it all</td>\n",
              "      <td>This is a confection that has been around a fe...</td>\n",
              "    </tr>\n",
              "    <tr>\n",
              "      <th>3</th>\n",
              "      <td>4</td>\n",
              "      <td>B000UA0QIQ</td>\n",
              "      <td>A395BORC6FGVXV</td>\n",
              "      <td>Karl</td>\n",
              "      <td>3</td>\n",
              "      <td>3</td>\n",
              "      <td>2</td>\n",
              "      <td>1307923200</td>\n",
              "      <td>Cough Medicine</td>\n",
              "      <td>If you are looking for the secret ingredient i...</td>\n",
              "    </tr>\n",
              "    <tr>\n",
              "      <th>4</th>\n",
              "      <td>5</td>\n",
              "      <td>B006K2ZZ7K</td>\n",
              "      <td>A1UQRSCLF8GW1T</td>\n",
              "      <td>Michael D. Bigham \"M. Wassir\"</td>\n",
              "      <td>0</td>\n",
              "      <td>0</td>\n",
              "      <td>5</td>\n",
              "      <td>1350777600</td>\n",
              "      <td>Great taffy</td>\n",
              "      <td>Great taffy at a great price.  There was a wid...</td>\n",
              "    </tr>\n",
              "  </tbody>\n",
              "</table>\n",
              "</div>\n",
              "      <button class=\"colab-df-convert\" onclick=\"convertToInteractive('df-9a84a11c-d072-48f9-b763-3983ff34aee0')\"\n",
              "              title=\"Convert this dataframe to an interactive table.\"\n",
              "              style=\"display:none;\">\n",
              "        \n",
              "  <svg xmlns=\"http://www.w3.org/2000/svg\" height=\"24px\"viewBox=\"0 0 24 24\"\n",
              "       width=\"24px\">\n",
              "    <path d=\"M0 0h24v24H0V0z\" fill=\"none\"/>\n",
              "    <path d=\"M18.56 5.44l.94 2.06.94-2.06 2.06-.94-2.06-.94-.94-2.06-.94 2.06-2.06.94zm-11 1L8.5 8.5l.94-2.06 2.06-.94-2.06-.94L8.5 2.5l-.94 2.06-2.06.94zm10 10l.94 2.06.94-2.06 2.06-.94-2.06-.94-.94-2.06-.94 2.06-2.06.94z\"/><path d=\"M17.41 7.96l-1.37-1.37c-.4-.4-.92-.59-1.43-.59-.52 0-1.04.2-1.43.59L10.3 9.45l-7.72 7.72c-.78.78-.78 2.05 0 2.83L4 21.41c.39.39.9.59 1.41.59.51 0 1.02-.2 1.41-.59l7.78-7.78 2.81-2.81c.8-.78.8-2.07 0-2.86zM5.41 20L4 18.59l7.72-7.72 1.47 1.35L5.41 20z\"/>\n",
              "  </svg>\n",
              "      </button>\n",
              "      \n",
              "  <style>\n",
              "    .colab-df-container {\n",
              "      display:flex;\n",
              "      flex-wrap:wrap;\n",
              "      gap: 12px;\n",
              "    }\n",
              "\n",
              "    .colab-df-convert {\n",
              "      background-color: #E8F0FE;\n",
              "      border: none;\n",
              "      border-radius: 50%;\n",
              "      cursor: pointer;\n",
              "      display: none;\n",
              "      fill: #1967D2;\n",
              "      height: 32px;\n",
              "      padding: 0 0 0 0;\n",
              "      width: 32px;\n",
              "    }\n",
              "\n",
              "    .colab-df-convert:hover {\n",
              "      background-color: #E2EBFA;\n",
              "      box-shadow: 0px 1px 2px rgba(60, 64, 67, 0.3), 0px 1px 3px 1px rgba(60, 64, 67, 0.15);\n",
              "      fill: #174EA6;\n",
              "    }\n",
              "\n",
              "    [theme=dark] .colab-df-convert {\n",
              "      background-color: #3B4455;\n",
              "      fill: #D2E3FC;\n",
              "    }\n",
              "\n",
              "    [theme=dark] .colab-df-convert:hover {\n",
              "      background-color: #434B5C;\n",
              "      box-shadow: 0px 1px 3px 1px rgba(0, 0, 0, 0.15);\n",
              "      filter: drop-shadow(0px 1px 2px rgba(0, 0, 0, 0.3));\n",
              "      fill: #FFFFFF;\n",
              "    }\n",
              "  </style>\n",
              "\n",
              "      <script>\n",
              "        const buttonEl =\n",
              "          document.querySelector('#df-9a84a11c-d072-48f9-b763-3983ff34aee0 button.colab-df-convert');\n",
              "        buttonEl.style.display =\n",
              "          google.colab.kernel.accessAllowed ? 'block' : 'none';\n",
              "\n",
              "        async function convertToInteractive(key) {\n",
              "          const element = document.querySelector('#df-9a84a11c-d072-48f9-b763-3983ff34aee0');\n",
              "          const dataTable =\n",
              "            await google.colab.kernel.invokeFunction('convertToInteractive',\n",
              "                                                     [key], {});\n",
              "          if (!dataTable) return;\n",
              "\n",
              "          const docLinkHtml = 'Like what you see? Visit the ' +\n",
              "            '<a target=\"_blank\" href=https://colab.research.google.com/notebooks/data_table.ipynb>data table notebook</a>'\n",
              "            + ' to learn more about interactive tables.';\n",
              "          element.innerHTML = '';\n",
              "          dataTable['output_type'] = 'display_data';\n",
              "          await google.colab.output.renderOutput(dataTable, element);\n",
              "          const docLink = document.createElement('div');\n",
              "          docLink.innerHTML = docLinkHtml;\n",
              "          element.appendChild(docLink);\n",
              "        }\n",
              "      </script>\n",
              "    </div>\n",
              "  </div>\n",
              "  "
            ]
          },
          "metadata": {},
          "execution_count": 40
        }
      ],
      "source": [
        "#filtering only positive and negative reviews i.e. not taking into consideration those reviews with Score=3\n",
        "con_rev.head()"
      ]
    },
    {
      "cell_type": "code",
      "source": [
        "filtered_data = con_rev[con_rev['Score']!=3]\n",
        "filtered_data.head()"
      ],
      "metadata": {
        "colab": {
          "base_uri": "https://localhost:8080/",
          "height": 320
        },
        "id": "IpJML1Kb3wpI",
        "outputId": "01d09a8b-061c-4ddd-80a7-2b628c9b9691"
      },
      "execution_count": 41,
      "outputs": [
        {
          "output_type": "execute_result",
          "data": {
            "text/plain": [
              "   Id   ProductId          UserId                      ProfileName  \\\n",
              "0   1  B001E4KFG0  A3SGXH7AUHU8GW                       delmartian   \n",
              "1   2  B00813GRG4  A1D87F6ZCVE5NK                           dll pa   \n",
              "2   3  B000LQOCH0   ABXLMWJIXXAIN  Natalia Corres \"Natalia Corres\"   \n",
              "3   4  B000UA0QIQ  A395BORC6FGVXV                             Karl   \n",
              "4   5  B006K2ZZ7K  A1UQRSCLF8GW1T    Michael D. Bigham \"M. Wassir\"   \n",
              "\n",
              "   HelpfulnessNumerator  HelpfulnessDenominator  Score        Time  \\\n",
              "0                     1                       1      5  1303862400   \n",
              "1                     0                       0      1  1346976000   \n",
              "2                     1                       1      4  1219017600   \n",
              "3                     3                       3      2  1307923200   \n",
              "4                     0                       0      5  1350777600   \n",
              "\n",
              "                 Summary                                               Text  \n",
              "0  Good Quality Dog Food  I have bought several of the Vitality canned d...  \n",
              "1      Not as Advertised  Product arrived labeled as Jumbo Salted Peanut...  \n",
              "2  \"Delight\" says it all  This is a confection that has been around a fe...  \n",
              "3         Cough Medicine  If you are looking for the secret ingredient i...  \n",
              "4            Great taffy  Great taffy at a great price.  There was a wid...  "
            ],
            "text/html": [
              "\n",
              "  <div id=\"df-e3d1b4e2-0940-4dea-9c74-86f746940da5\">\n",
              "    <div class=\"colab-df-container\">\n",
              "      <div>\n",
              "<style scoped>\n",
              "    .dataframe tbody tr th:only-of-type {\n",
              "        vertical-align: middle;\n",
              "    }\n",
              "\n",
              "    .dataframe tbody tr th {\n",
              "        vertical-align: top;\n",
              "    }\n",
              "\n",
              "    .dataframe thead th {\n",
              "        text-align: right;\n",
              "    }\n",
              "</style>\n",
              "<table border=\"1\" class=\"dataframe\">\n",
              "  <thead>\n",
              "    <tr style=\"text-align: right;\">\n",
              "      <th></th>\n",
              "      <th>Id</th>\n",
              "      <th>ProductId</th>\n",
              "      <th>UserId</th>\n",
              "      <th>ProfileName</th>\n",
              "      <th>HelpfulnessNumerator</th>\n",
              "      <th>HelpfulnessDenominator</th>\n",
              "      <th>Score</th>\n",
              "      <th>Time</th>\n",
              "      <th>Summary</th>\n",
              "      <th>Text</th>\n",
              "    </tr>\n",
              "  </thead>\n",
              "  <tbody>\n",
              "    <tr>\n",
              "      <th>0</th>\n",
              "      <td>1</td>\n",
              "      <td>B001E4KFG0</td>\n",
              "      <td>A3SGXH7AUHU8GW</td>\n",
              "      <td>delmartian</td>\n",
              "      <td>1</td>\n",
              "      <td>1</td>\n",
              "      <td>5</td>\n",
              "      <td>1303862400</td>\n",
              "      <td>Good Quality Dog Food</td>\n",
              "      <td>I have bought several of the Vitality canned d...</td>\n",
              "    </tr>\n",
              "    <tr>\n",
              "      <th>1</th>\n",
              "      <td>2</td>\n",
              "      <td>B00813GRG4</td>\n",
              "      <td>A1D87F6ZCVE5NK</td>\n",
              "      <td>dll pa</td>\n",
              "      <td>0</td>\n",
              "      <td>0</td>\n",
              "      <td>1</td>\n",
              "      <td>1346976000</td>\n",
              "      <td>Not as Advertised</td>\n",
              "      <td>Product arrived labeled as Jumbo Salted Peanut...</td>\n",
              "    </tr>\n",
              "    <tr>\n",
              "      <th>2</th>\n",
              "      <td>3</td>\n",
              "      <td>B000LQOCH0</td>\n",
              "      <td>ABXLMWJIXXAIN</td>\n",
              "      <td>Natalia Corres \"Natalia Corres\"</td>\n",
              "      <td>1</td>\n",
              "      <td>1</td>\n",
              "      <td>4</td>\n",
              "      <td>1219017600</td>\n",
              "      <td>\"Delight\" says it all</td>\n",
              "      <td>This is a confection that has been around a fe...</td>\n",
              "    </tr>\n",
              "    <tr>\n",
              "      <th>3</th>\n",
              "      <td>4</td>\n",
              "      <td>B000UA0QIQ</td>\n",
              "      <td>A395BORC6FGVXV</td>\n",
              "      <td>Karl</td>\n",
              "      <td>3</td>\n",
              "      <td>3</td>\n",
              "      <td>2</td>\n",
              "      <td>1307923200</td>\n",
              "      <td>Cough Medicine</td>\n",
              "      <td>If you are looking for the secret ingredient i...</td>\n",
              "    </tr>\n",
              "    <tr>\n",
              "      <th>4</th>\n",
              "      <td>5</td>\n",
              "      <td>B006K2ZZ7K</td>\n",
              "      <td>A1UQRSCLF8GW1T</td>\n",
              "      <td>Michael D. Bigham \"M. Wassir\"</td>\n",
              "      <td>0</td>\n",
              "      <td>0</td>\n",
              "      <td>5</td>\n",
              "      <td>1350777600</td>\n",
              "      <td>Great taffy</td>\n",
              "      <td>Great taffy at a great price.  There was a wid...</td>\n",
              "    </tr>\n",
              "  </tbody>\n",
              "</table>\n",
              "</div>\n",
              "      <button class=\"colab-df-convert\" onclick=\"convertToInteractive('df-e3d1b4e2-0940-4dea-9c74-86f746940da5')\"\n",
              "              title=\"Convert this dataframe to an interactive table.\"\n",
              "              style=\"display:none;\">\n",
              "        \n",
              "  <svg xmlns=\"http://www.w3.org/2000/svg\" height=\"24px\"viewBox=\"0 0 24 24\"\n",
              "       width=\"24px\">\n",
              "    <path d=\"M0 0h24v24H0V0z\" fill=\"none\"/>\n",
              "    <path d=\"M18.56 5.44l.94 2.06.94-2.06 2.06-.94-2.06-.94-.94-2.06-.94 2.06-2.06.94zm-11 1L8.5 8.5l.94-2.06 2.06-.94-2.06-.94L8.5 2.5l-.94 2.06-2.06.94zm10 10l.94 2.06.94-2.06 2.06-.94-2.06-.94-.94-2.06-.94 2.06-2.06.94z\"/><path d=\"M17.41 7.96l-1.37-1.37c-.4-.4-.92-.59-1.43-.59-.52 0-1.04.2-1.43.59L10.3 9.45l-7.72 7.72c-.78.78-.78 2.05 0 2.83L4 21.41c.39.39.9.59 1.41.59.51 0 1.02-.2 1.41-.59l7.78-7.78 2.81-2.81c.8-.78.8-2.07 0-2.86zM5.41 20L4 18.59l7.72-7.72 1.47 1.35L5.41 20z\"/>\n",
              "  </svg>\n",
              "      </button>\n",
              "      \n",
              "  <style>\n",
              "    .colab-df-container {\n",
              "      display:flex;\n",
              "      flex-wrap:wrap;\n",
              "      gap: 12px;\n",
              "    }\n",
              "\n",
              "    .colab-df-convert {\n",
              "      background-color: #E8F0FE;\n",
              "      border: none;\n",
              "      border-radius: 50%;\n",
              "      cursor: pointer;\n",
              "      display: none;\n",
              "      fill: #1967D2;\n",
              "      height: 32px;\n",
              "      padding: 0 0 0 0;\n",
              "      width: 32px;\n",
              "    }\n",
              "\n",
              "    .colab-df-convert:hover {\n",
              "      background-color: #E2EBFA;\n",
              "      box-shadow: 0px 1px 2px rgba(60, 64, 67, 0.3), 0px 1px 3px 1px rgba(60, 64, 67, 0.15);\n",
              "      fill: #174EA6;\n",
              "    }\n",
              "\n",
              "    [theme=dark] .colab-df-convert {\n",
              "      background-color: #3B4455;\n",
              "      fill: #D2E3FC;\n",
              "    }\n",
              "\n",
              "    [theme=dark] .colab-df-convert:hover {\n",
              "      background-color: #434B5C;\n",
              "      box-shadow: 0px 1px 3px 1px rgba(0, 0, 0, 0.15);\n",
              "      filter: drop-shadow(0px 1px 2px rgba(0, 0, 0, 0.3));\n",
              "      fill: #FFFFFF;\n",
              "    }\n",
              "  </style>\n",
              "\n",
              "      <script>\n",
              "        const buttonEl =\n",
              "          document.querySelector('#df-e3d1b4e2-0940-4dea-9c74-86f746940da5 button.colab-df-convert');\n",
              "        buttonEl.style.display =\n",
              "          google.colab.kernel.accessAllowed ? 'block' : 'none';\n",
              "\n",
              "        async function convertToInteractive(key) {\n",
              "          const element = document.querySelector('#df-e3d1b4e2-0940-4dea-9c74-86f746940da5');\n",
              "          const dataTable =\n",
              "            await google.colab.kernel.invokeFunction('convertToInteractive',\n",
              "                                                     [key], {});\n",
              "          if (!dataTable) return;\n",
              "\n",
              "          const docLinkHtml = 'Like what you see? Visit the ' +\n",
              "            '<a target=\"_blank\" href=https://colab.research.google.com/notebooks/data_table.ipynb>data table notebook</a>'\n",
              "            + ' to learn more about interactive tables.';\n",
              "          element.innerHTML = '';\n",
              "          dataTable['output_type'] = 'display_data';\n",
              "          await google.colab.output.renderOutput(dataTable, element);\n",
              "          const docLink = document.createElement('div');\n",
              "          docLink.innerHTML = docLinkHtml;\n",
              "          element.appendChild(docLink);\n",
              "        }\n",
              "      </script>\n",
              "    </div>\n",
              "  </div>\n",
              "  "
            ]
          },
          "metadata": {},
          "execution_count": 41
        }
      ]
    },
    {
      "cell_type": "code",
      "execution_count": 42,
      "metadata": {
        "id": "sH0FZhwYcHN2"
      },
      "outputs": [],
      "source": [
        "# Give reviews with Score>3 a positive rating, and reviews with a score<3 a negative rating.\n",
        "def partition(x):\n",
        "    if x < 3:\n",
        "        return 0\n",
        "    return 1"
      ]
    },
    {
      "cell_type": "code",
      "execution_count": 43,
      "metadata": {
        "id": "Gz9qGKGmcHN3",
        "colab": {
          "base_uri": "https://localhost:8080/",
          "height": 257
        },
        "outputId": "5f22dd85-e9e9-40a0-e959-43366ad0ba28"
      },
      "outputs": [
        {
          "output_type": "stream",
          "name": "stdout",
          "text": [
            "Number of data points in our data (525814, 10)\n"
          ]
        },
        {
          "output_type": "execute_result",
          "data": {
            "text/plain": [
              "   Id   ProductId          UserId                      ProfileName  \\\n",
              "0   1  B001E4KFG0  A3SGXH7AUHU8GW                       delmartian   \n",
              "1   2  B00813GRG4  A1D87F6ZCVE5NK                           dll pa   \n",
              "2   3  B000LQOCH0   ABXLMWJIXXAIN  Natalia Corres \"Natalia Corres\"   \n",
              "\n",
              "   HelpfulnessNumerator  HelpfulnessDenominator  Score        Time  \\\n",
              "0                     1                       1      1  1303862400   \n",
              "1                     0                       0      0  1346976000   \n",
              "2                     1                       1      1  1219017600   \n",
              "\n",
              "                 Summary                                               Text  \n",
              "0  Good Quality Dog Food  I have bought several of the Vitality canned d...  \n",
              "1      Not as Advertised  Product arrived labeled as Jumbo Salted Peanut...  \n",
              "2  \"Delight\" says it all  This is a confection that has been around a fe...  "
            ],
            "text/html": [
              "\n",
              "  <div id=\"df-887c9af9-d345-415e-9671-475f39ee88ae\">\n",
              "    <div class=\"colab-df-container\">\n",
              "      <div>\n",
              "<style scoped>\n",
              "    .dataframe tbody tr th:only-of-type {\n",
              "        vertical-align: middle;\n",
              "    }\n",
              "\n",
              "    .dataframe tbody tr th {\n",
              "        vertical-align: top;\n",
              "    }\n",
              "\n",
              "    .dataframe thead th {\n",
              "        text-align: right;\n",
              "    }\n",
              "</style>\n",
              "<table border=\"1\" class=\"dataframe\">\n",
              "  <thead>\n",
              "    <tr style=\"text-align: right;\">\n",
              "      <th></th>\n",
              "      <th>Id</th>\n",
              "      <th>ProductId</th>\n",
              "      <th>UserId</th>\n",
              "      <th>ProfileName</th>\n",
              "      <th>HelpfulnessNumerator</th>\n",
              "      <th>HelpfulnessDenominator</th>\n",
              "      <th>Score</th>\n",
              "      <th>Time</th>\n",
              "      <th>Summary</th>\n",
              "      <th>Text</th>\n",
              "    </tr>\n",
              "  </thead>\n",
              "  <tbody>\n",
              "    <tr>\n",
              "      <th>0</th>\n",
              "      <td>1</td>\n",
              "      <td>B001E4KFG0</td>\n",
              "      <td>A3SGXH7AUHU8GW</td>\n",
              "      <td>delmartian</td>\n",
              "      <td>1</td>\n",
              "      <td>1</td>\n",
              "      <td>1</td>\n",
              "      <td>1303862400</td>\n",
              "      <td>Good Quality Dog Food</td>\n",
              "      <td>I have bought several of the Vitality canned d...</td>\n",
              "    </tr>\n",
              "    <tr>\n",
              "      <th>1</th>\n",
              "      <td>2</td>\n",
              "      <td>B00813GRG4</td>\n",
              "      <td>A1D87F6ZCVE5NK</td>\n",
              "      <td>dll pa</td>\n",
              "      <td>0</td>\n",
              "      <td>0</td>\n",
              "      <td>0</td>\n",
              "      <td>1346976000</td>\n",
              "      <td>Not as Advertised</td>\n",
              "      <td>Product arrived labeled as Jumbo Salted Peanut...</td>\n",
              "    </tr>\n",
              "    <tr>\n",
              "      <th>2</th>\n",
              "      <td>3</td>\n",
              "      <td>B000LQOCH0</td>\n",
              "      <td>ABXLMWJIXXAIN</td>\n",
              "      <td>Natalia Corres \"Natalia Corres\"</td>\n",
              "      <td>1</td>\n",
              "      <td>1</td>\n",
              "      <td>1</td>\n",
              "      <td>1219017600</td>\n",
              "      <td>\"Delight\" says it all</td>\n",
              "      <td>This is a confection that has been around a fe...</td>\n",
              "    </tr>\n",
              "  </tbody>\n",
              "</table>\n",
              "</div>\n",
              "      <button class=\"colab-df-convert\" onclick=\"convertToInteractive('df-887c9af9-d345-415e-9671-475f39ee88ae')\"\n",
              "              title=\"Convert this dataframe to an interactive table.\"\n",
              "              style=\"display:none;\">\n",
              "        \n",
              "  <svg xmlns=\"http://www.w3.org/2000/svg\" height=\"24px\"viewBox=\"0 0 24 24\"\n",
              "       width=\"24px\">\n",
              "    <path d=\"M0 0h24v24H0V0z\" fill=\"none\"/>\n",
              "    <path d=\"M18.56 5.44l.94 2.06.94-2.06 2.06-.94-2.06-.94-.94-2.06-.94 2.06-2.06.94zm-11 1L8.5 8.5l.94-2.06 2.06-.94-2.06-.94L8.5 2.5l-.94 2.06-2.06.94zm10 10l.94 2.06.94-2.06 2.06-.94-2.06-.94-.94-2.06-.94 2.06-2.06.94z\"/><path d=\"M17.41 7.96l-1.37-1.37c-.4-.4-.92-.59-1.43-.59-.52 0-1.04.2-1.43.59L10.3 9.45l-7.72 7.72c-.78.78-.78 2.05 0 2.83L4 21.41c.39.39.9.59 1.41.59.51 0 1.02-.2 1.41-.59l7.78-7.78 2.81-2.81c.8-.78.8-2.07 0-2.86zM5.41 20L4 18.59l7.72-7.72 1.47 1.35L5.41 20z\"/>\n",
              "  </svg>\n",
              "      </button>\n",
              "      \n",
              "  <style>\n",
              "    .colab-df-container {\n",
              "      display:flex;\n",
              "      flex-wrap:wrap;\n",
              "      gap: 12px;\n",
              "    }\n",
              "\n",
              "    .colab-df-convert {\n",
              "      background-color: #E8F0FE;\n",
              "      border: none;\n",
              "      border-radius: 50%;\n",
              "      cursor: pointer;\n",
              "      display: none;\n",
              "      fill: #1967D2;\n",
              "      height: 32px;\n",
              "      padding: 0 0 0 0;\n",
              "      width: 32px;\n",
              "    }\n",
              "\n",
              "    .colab-df-convert:hover {\n",
              "      background-color: #E2EBFA;\n",
              "      box-shadow: 0px 1px 2px rgba(60, 64, 67, 0.3), 0px 1px 3px 1px rgba(60, 64, 67, 0.15);\n",
              "      fill: #174EA6;\n",
              "    }\n",
              "\n",
              "    [theme=dark] .colab-df-convert {\n",
              "      background-color: #3B4455;\n",
              "      fill: #D2E3FC;\n",
              "    }\n",
              "\n",
              "    [theme=dark] .colab-df-convert:hover {\n",
              "      background-color: #434B5C;\n",
              "      box-shadow: 0px 1px 3px 1px rgba(0, 0, 0, 0.15);\n",
              "      filter: drop-shadow(0px 1px 2px rgba(0, 0, 0, 0.3));\n",
              "      fill: #FFFFFF;\n",
              "    }\n",
              "  </style>\n",
              "\n",
              "      <script>\n",
              "        const buttonEl =\n",
              "          document.querySelector('#df-887c9af9-d345-415e-9671-475f39ee88ae button.colab-df-convert');\n",
              "        buttonEl.style.display =\n",
              "          google.colab.kernel.accessAllowed ? 'block' : 'none';\n",
              "\n",
              "        async function convertToInteractive(key) {\n",
              "          const element = document.querySelector('#df-887c9af9-d345-415e-9671-475f39ee88ae');\n",
              "          const dataTable =\n",
              "            await google.colab.kernel.invokeFunction('convertToInteractive',\n",
              "                                                     [key], {});\n",
              "          if (!dataTable) return;\n",
              "\n",
              "          const docLinkHtml = 'Like what you see? Visit the ' +\n",
              "            '<a target=\"_blank\" href=https://colab.research.google.com/notebooks/data_table.ipynb>data table notebook</a>'\n",
              "            + ' to learn more about interactive tables.';\n",
              "          element.innerHTML = '';\n",
              "          dataTable['output_type'] = 'display_data';\n",
              "          await google.colab.output.renderOutput(dataTable, element);\n",
              "          const docLink = document.createElement('div');\n",
              "          docLink.innerHTML = docLinkHtml;\n",
              "          element.appendChild(docLink);\n",
              "        }\n",
              "      </script>\n",
              "    </div>\n",
              "  </div>\n",
              "  "
            ]
          },
          "metadata": {},
          "execution_count": 43
        }
      ],
      "source": [
        "#changing reviews with score less than 3 to be positive and vice-versa\n",
        "actualScore = filtered_data['Score']\n",
        "positiveNegative = actualScore.map(partition) \n",
        "filtered_data['Score'] = positiveNegative\n",
        "print(\"Number of data points in our data\", filtered_data.shape)\n",
        "filtered_data.head(3)"
      ]
    },
    {
      "cell_type": "markdown",
      "metadata": {
        "id": "VRqEXr4BcHN3"
      },
      "source": [
        "## Exploratory Data Analysis\n",
        "\n",
        "#### Data Cleaning: Deduplication\n",
        "\n"
      ]
    },
    {
      "cell_type": "code",
      "execution_count": 44,
      "metadata": {
        "id": "UJRRh9VlcHN4",
        "colab": {
          "base_uri": "https://localhost:8080/",
          "height": 257
        },
        "outputId": "db801337-fcdb-42c7-8b6c-eddc30b6ebed"
      },
      "outputs": [
        {
          "output_type": "stream",
          "name": "stdout",
          "text": [
            "(364173, 10)\n"
          ]
        },
        {
          "output_type": "execute_result",
          "data": {
            "text/plain": [
              "   Id   ProductId          UserId                      ProfileName  \\\n",
              "0   1  B001E4KFG0  A3SGXH7AUHU8GW                       delmartian   \n",
              "1   2  B00813GRG4  A1D87F6ZCVE5NK                           dll pa   \n",
              "2   3  B000LQOCH0   ABXLMWJIXXAIN  Natalia Corres \"Natalia Corres\"   \n",
              "\n",
              "   HelpfulnessNumerator  HelpfulnessDenominator  Score        Time  \\\n",
              "0                     1                       1      1  1303862400   \n",
              "1                     0                       0      0  1346976000   \n",
              "2                     1                       1      1  1219017600   \n",
              "\n",
              "                 Summary                                               Text  \n",
              "0  Good Quality Dog Food  I have bought several of the Vitality canned d...  \n",
              "1      Not as Advertised  Product arrived labeled as Jumbo Salted Peanut...  \n",
              "2  \"Delight\" says it all  This is a confection that has been around a fe...  "
            ],
            "text/html": [
              "\n",
              "  <div id=\"df-31180fa5-665c-43e2-83d9-51b2a8076a8f\">\n",
              "    <div class=\"colab-df-container\">\n",
              "      <div>\n",
              "<style scoped>\n",
              "    .dataframe tbody tr th:only-of-type {\n",
              "        vertical-align: middle;\n",
              "    }\n",
              "\n",
              "    .dataframe tbody tr th {\n",
              "        vertical-align: top;\n",
              "    }\n",
              "\n",
              "    .dataframe thead th {\n",
              "        text-align: right;\n",
              "    }\n",
              "</style>\n",
              "<table border=\"1\" class=\"dataframe\">\n",
              "  <thead>\n",
              "    <tr style=\"text-align: right;\">\n",
              "      <th></th>\n",
              "      <th>Id</th>\n",
              "      <th>ProductId</th>\n",
              "      <th>UserId</th>\n",
              "      <th>ProfileName</th>\n",
              "      <th>HelpfulnessNumerator</th>\n",
              "      <th>HelpfulnessDenominator</th>\n",
              "      <th>Score</th>\n",
              "      <th>Time</th>\n",
              "      <th>Summary</th>\n",
              "      <th>Text</th>\n",
              "    </tr>\n",
              "  </thead>\n",
              "  <tbody>\n",
              "    <tr>\n",
              "      <th>0</th>\n",
              "      <td>1</td>\n",
              "      <td>B001E4KFG0</td>\n",
              "      <td>A3SGXH7AUHU8GW</td>\n",
              "      <td>delmartian</td>\n",
              "      <td>1</td>\n",
              "      <td>1</td>\n",
              "      <td>1</td>\n",
              "      <td>1303862400</td>\n",
              "      <td>Good Quality Dog Food</td>\n",
              "      <td>I have bought several of the Vitality canned d...</td>\n",
              "    </tr>\n",
              "    <tr>\n",
              "      <th>1</th>\n",
              "      <td>2</td>\n",
              "      <td>B00813GRG4</td>\n",
              "      <td>A1D87F6ZCVE5NK</td>\n",
              "      <td>dll pa</td>\n",
              "      <td>0</td>\n",
              "      <td>0</td>\n",
              "      <td>0</td>\n",
              "      <td>1346976000</td>\n",
              "      <td>Not as Advertised</td>\n",
              "      <td>Product arrived labeled as Jumbo Salted Peanut...</td>\n",
              "    </tr>\n",
              "    <tr>\n",
              "      <th>2</th>\n",
              "      <td>3</td>\n",
              "      <td>B000LQOCH0</td>\n",
              "      <td>ABXLMWJIXXAIN</td>\n",
              "      <td>Natalia Corres \"Natalia Corres\"</td>\n",
              "      <td>1</td>\n",
              "      <td>1</td>\n",
              "      <td>1</td>\n",
              "      <td>1219017600</td>\n",
              "      <td>\"Delight\" says it all</td>\n",
              "      <td>This is a confection that has been around a fe...</td>\n",
              "    </tr>\n",
              "  </tbody>\n",
              "</table>\n",
              "</div>\n",
              "      <button class=\"colab-df-convert\" onclick=\"convertToInteractive('df-31180fa5-665c-43e2-83d9-51b2a8076a8f')\"\n",
              "              title=\"Convert this dataframe to an interactive table.\"\n",
              "              style=\"display:none;\">\n",
              "        \n",
              "  <svg xmlns=\"http://www.w3.org/2000/svg\" height=\"24px\"viewBox=\"0 0 24 24\"\n",
              "       width=\"24px\">\n",
              "    <path d=\"M0 0h24v24H0V0z\" fill=\"none\"/>\n",
              "    <path d=\"M18.56 5.44l.94 2.06.94-2.06 2.06-.94-2.06-.94-.94-2.06-.94 2.06-2.06.94zm-11 1L8.5 8.5l.94-2.06 2.06-.94-2.06-.94L8.5 2.5l-.94 2.06-2.06.94zm10 10l.94 2.06.94-2.06 2.06-.94-2.06-.94-.94-2.06-.94 2.06-2.06.94z\"/><path d=\"M17.41 7.96l-1.37-1.37c-.4-.4-.92-.59-1.43-.59-.52 0-1.04.2-1.43.59L10.3 9.45l-7.72 7.72c-.78.78-.78 2.05 0 2.83L4 21.41c.39.39.9.59 1.41.59.51 0 1.02-.2 1.41-.59l7.78-7.78 2.81-2.81c.8-.78.8-2.07 0-2.86zM5.41 20L4 18.59l7.72-7.72 1.47 1.35L5.41 20z\"/>\n",
              "  </svg>\n",
              "      </button>\n",
              "      \n",
              "  <style>\n",
              "    .colab-df-container {\n",
              "      display:flex;\n",
              "      flex-wrap:wrap;\n",
              "      gap: 12px;\n",
              "    }\n",
              "\n",
              "    .colab-df-convert {\n",
              "      background-color: #E8F0FE;\n",
              "      border: none;\n",
              "      border-radius: 50%;\n",
              "      cursor: pointer;\n",
              "      display: none;\n",
              "      fill: #1967D2;\n",
              "      height: 32px;\n",
              "      padding: 0 0 0 0;\n",
              "      width: 32px;\n",
              "    }\n",
              "\n",
              "    .colab-df-convert:hover {\n",
              "      background-color: #E2EBFA;\n",
              "      box-shadow: 0px 1px 2px rgba(60, 64, 67, 0.3), 0px 1px 3px 1px rgba(60, 64, 67, 0.15);\n",
              "      fill: #174EA6;\n",
              "    }\n",
              "\n",
              "    [theme=dark] .colab-df-convert {\n",
              "      background-color: #3B4455;\n",
              "      fill: #D2E3FC;\n",
              "    }\n",
              "\n",
              "    [theme=dark] .colab-df-convert:hover {\n",
              "      background-color: #434B5C;\n",
              "      box-shadow: 0px 1px 3px 1px rgba(0, 0, 0, 0.15);\n",
              "      filter: drop-shadow(0px 1px 2px rgba(0, 0, 0, 0.3));\n",
              "      fill: #FFFFFF;\n",
              "    }\n",
              "  </style>\n",
              "\n",
              "      <script>\n",
              "        const buttonEl =\n",
              "          document.querySelector('#df-31180fa5-665c-43e2-83d9-51b2a8076a8f button.colab-df-convert');\n",
              "        buttonEl.style.display =\n",
              "          google.colab.kernel.accessAllowed ? 'block' : 'none';\n",
              "\n",
              "        async function convertToInteractive(key) {\n",
              "          const element = document.querySelector('#df-31180fa5-665c-43e2-83d9-51b2a8076a8f');\n",
              "          const dataTable =\n",
              "            await google.colab.kernel.invokeFunction('convertToInteractive',\n",
              "                                                     [key], {});\n",
              "          if (!dataTable) return;\n",
              "\n",
              "          const docLinkHtml = 'Like what you see? Visit the ' +\n",
              "            '<a target=\"_blank\" href=https://colab.research.google.com/notebooks/data_table.ipynb>data table notebook</a>'\n",
              "            + ' to learn more about interactive tables.';\n",
              "          element.innerHTML = '';\n",
              "          dataTable['output_type'] = 'display_data';\n",
              "          await google.colab.output.renderOutput(dataTable, element);\n",
              "          const docLink = document.createElement('div');\n",
              "          docLink.innerHTML = docLinkHtml;\n",
              "          element.appendChild(docLink);\n",
              "        }\n",
              "      </script>\n",
              "    </div>\n",
              "  </div>\n",
              "  "
            ]
          },
          "metadata": {},
          "execution_count": 44
        }
      ],
      "source": [
        "subset = {\"UserId\", \"ProfileName\", \"Time\", \"Text\"}\n",
        "data = filtered_data.drop_duplicates(subset=subset, keep=\"first\")\n",
        "print(data.shape)\n",
        "data.head(3)"
      ]
    },
    {
      "cell_type": "code",
      "execution_count": 45,
      "metadata": {
        "id": "hd3wi8CPcHN4",
        "colab": {
          "base_uri": "https://localhost:8080/"
        },
        "outputId": "c29dfb5b-a0fc-4920-84dd-035fa64a4f83"
      },
      "outputs": [
        {
          "output_type": "execute_result",
          "data": {
            "text/plain": [
              "69.25890143662969"
            ]
          },
          "metadata": {},
          "execution_count": 45
        }
      ],
      "source": [
        "#Checking to see how much % of data still remains\n",
        "(data['Id'].size)/(filtered_data['Id'].size)*100"
      ]
    },
    {
      "cell_type": "markdown",
      "metadata": {
        "id": "tgzbWOlrcHN5"
      },
      "source": [
        "HelpfulnessNumerator - number of users who found the review helpful <br>\n",
        "HelpfulnessDenominator - number of users who indicated whether they found the review helpful or not"
      ]
    },
    {
      "cell_type": "code",
      "execution_count": 46,
      "metadata": {
        "id": "UAvwzRK8cHN5",
        "colab": {
          "base_uri": "https://localhost:8080/",
          "height": 191
        },
        "outputId": "2338d102-0587-446e-e0c7-cdca1be7d1ee"
      },
      "outputs": [
        {
          "output_type": "execute_result",
          "data": {
            "text/plain": [
              "          Id   ProductId          UserId              ProfileName  \\\n",
              "44736  44737  B001EQ55RW  A2V0I904FH7ABY                      Ram   \n",
              "64421  64422  B000MIDROQ  A161DK06JJMCYF  J. E. Stephens \"Jeanne\"   \n",
              "\n",
              "       HelpfulnessNumerator  HelpfulnessDenominator  Score        Time  \\\n",
              "44736                     3                       2      1  1212883200   \n",
              "64421                     3                       1      1  1224892800   \n",
              "\n",
              "                                            Summary  \\\n",
              "44736  Pure cocoa taste with crunchy almonds inside   \n",
              "64421             Bought This for My Son at College   \n",
              "\n",
              "                                                    Text  \n",
              "44736  It was almost a 'love at first bite' - the per...  \n",
              "64421  My son loves spaghetti so I didn't hesitate or...  "
            ],
            "text/html": [
              "\n",
              "  <div id=\"df-1a57a399-0bf3-4b0f-af07-8886917c9be6\">\n",
              "    <div class=\"colab-df-container\">\n",
              "      <div>\n",
              "<style scoped>\n",
              "    .dataframe tbody tr th:only-of-type {\n",
              "        vertical-align: middle;\n",
              "    }\n",
              "\n",
              "    .dataframe tbody tr th {\n",
              "        vertical-align: top;\n",
              "    }\n",
              "\n",
              "    .dataframe thead th {\n",
              "        text-align: right;\n",
              "    }\n",
              "</style>\n",
              "<table border=\"1\" class=\"dataframe\">\n",
              "  <thead>\n",
              "    <tr style=\"text-align: right;\">\n",
              "      <th></th>\n",
              "      <th>Id</th>\n",
              "      <th>ProductId</th>\n",
              "      <th>UserId</th>\n",
              "      <th>ProfileName</th>\n",
              "      <th>HelpfulnessNumerator</th>\n",
              "      <th>HelpfulnessDenominator</th>\n",
              "      <th>Score</th>\n",
              "      <th>Time</th>\n",
              "      <th>Summary</th>\n",
              "      <th>Text</th>\n",
              "    </tr>\n",
              "  </thead>\n",
              "  <tbody>\n",
              "    <tr>\n",
              "      <th>44736</th>\n",
              "      <td>44737</td>\n",
              "      <td>B001EQ55RW</td>\n",
              "      <td>A2V0I904FH7ABY</td>\n",
              "      <td>Ram</td>\n",
              "      <td>3</td>\n",
              "      <td>2</td>\n",
              "      <td>1</td>\n",
              "      <td>1212883200</td>\n",
              "      <td>Pure cocoa taste with crunchy almonds inside</td>\n",
              "      <td>It was almost a 'love at first bite' - the per...</td>\n",
              "    </tr>\n",
              "    <tr>\n",
              "      <th>64421</th>\n",
              "      <td>64422</td>\n",
              "      <td>B000MIDROQ</td>\n",
              "      <td>A161DK06JJMCYF</td>\n",
              "      <td>J. E. Stephens \"Jeanne\"</td>\n",
              "      <td>3</td>\n",
              "      <td>1</td>\n",
              "      <td>1</td>\n",
              "      <td>1224892800</td>\n",
              "      <td>Bought This for My Son at College</td>\n",
              "      <td>My son loves spaghetti so I didn't hesitate or...</td>\n",
              "    </tr>\n",
              "  </tbody>\n",
              "</table>\n",
              "</div>\n",
              "      <button class=\"colab-df-convert\" onclick=\"convertToInteractive('df-1a57a399-0bf3-4b0f-af07-8886917c9be6')\"\n",
              "              title=\"Convert this dataframe to an interactive table.\"\n",
              "              style=\"display:none;\">\n",
              "        \n",
              "  <svg xmlns=\"http://www.w3.org/2000/svg\" height=\"24px\"viewBox=\"0 0 24 24\"\n",
              "       width=\"24px\">\n",
              "    <path d=\"M0 0h24v24H0V0z\" fill=\"none\"/>\n",
              "    <path d=\"M18.56 5.44l.94 2.06.94-2.06 2.06-.94-2.06-.94-.94-2.06-.94 2.06-2.06.94zm-11 1L8.5 8.5l.94-2.06 2.06-.94-2.06-.94L8.5 2.5l-.94 2.06-2.06.94zm10 10l.94 2.06.94-2.06 2.06-.94-2.06-.94-.94-2.06-.94 2.06-2.06.94z\"/><path d=\"M17.41 7.96l-1.37-1.37c-.4-.4-.92-.59-1.43-.59-.52 0-1.04.2-1.43.59L10.3 9.45l-7.72 7.72c-.78.78-.78 2.05 0 2.83L4 21.41c.39.39.9.59 1.41.59.51 0 1.02-.2 1.41-.59l7.78-7.78 2.81-2.81c.8-.78.8-2.07 0-2.86zM5.41 20L4 18.59l7.72-7.72 1.47 1.35L5.41 20z\"/>\n",
              "  </svg>\n",
              "      </button>\n",
              "      \n",
              "  <style>\n",
              "    .colab-df-container {\n",
              "      display:flex;\n",
              "      flex-wrap:wrap;\n",
              "      gap: 12px;\n",
              "    }\n",
              "\n",
              "    .colab-df-convert {\n",
              "      background-color: #E8F0FE;\n",
              "      border: none;\n",
              "      border-radius: 50%;\n",
              "      cursor: pointer;\n",
              "      display: none;\n",
              "      fill: #1967D2;\n",
              "      height: 32px;\n",
              "      padding: 0 0 0 0;\n",
              "      width: 32px;\n",
              "    }\n",
              "\n",
              "    .colab-df-convert:hover {\n",
              "      background-color: #E2EBFA;\n",
              "      box-shadow: 0px 1px 2px rgba(60, 64, 67, 0.3), 0px 1px 3px 1px rgba(60, 64, 67, 0.15);\n",
              "      fill: #174EA6;\n",
              "    }\n",
              "\n",
              "    [theme=dark] .colab-df-convert {\n",
              "      background-color: #3B4455;\n",
              "      fill: #D2E3FC;\n",
              "    }\n",
              "\n",
              "    [theme=dark] .colab-df-convert:hover {\n",
              "      background-color: #434B5C;\n",
              "      box-shadow: 0px 1px 3px 1px rgba(0, 0, 0, 0.15);\n",
              "      filter: drop-shadow(0px 1px 2px rgba(0, 0, 0, 0.3));\n",
              "      fill: #FFFFFF;\n",
              "    }\n",
              "  </style>\n",
              "\n",
              "      <script>\n",
              "        const buttonEl =\n",
              "          document.querySelector('#df-1a57a399-0bf3-4b0f-af07-8886917c9be6 button.colab-df-convert');\n",
              "        buttonEl.style.display =\n",
              "          google.colab.kernel.accessAllowed ? 'block' : 'none';\n",
              "\n",
              "        async function convertToInteractive(key) {\n",
              "          const element = document.querySelector('#df-1a57a399-0bf3-4b0f-af07-8886917c9be6');\n",
              "          const dataTable =\n",
              "            await google.colab.kernel.invokeFunction('convertToInteractive',\n",
              "                                                     [key], {});\n",
              "          if (!dataTable) return;\n",
              "\n",
              "          const docLinkHtml = 'Like what you see? Visit the ' +\n",
              "            '<a target=\"_blank\" href=https://colab.research.google.com/notebooks/data_table.ipynb>data table notebook</a>'\n",
              "            + ' to learn more about interactive tables.';\n",
              "          element.innerHTML = '';\n",
              "          dataTable['output_type'] = 'display_data';\n",
              "          await google.colab.output.renderOutput(dataTable, element);\n",
              "          const docLink = document.createElement('div');\n",
              "          docLink.innerHTML = docLinkHtml;\n",
              "          element.appendChild(docLink);\n",
              "        }\n",
              "      </script>\n",
              "    </div>\n",
              "  </div>\n",
              "  "
            ]
          },
          "metadata": {},
          "execution_count": 46
        }
      ],
      "source": [
        "#Checking IS 'HelpfulnessNumerator' always less than or equal to 'HelpfulnessDenominator' ?\n",
        "data[data['HelpfulnessNumerator'] > data['HelpfulnessDenominator']]"
      ]
    },
    {
      "cell_type": "code",
      "execution_count": 47,
      "metadata": {
        "id": "9_bQ1q_lcHN6",
        "colab": {
          "base_uri": "https://localhost:8080/",
          "height": 257
        },
        "outputId": "90040aae-1a21-45ec-ea69-e6f869f8233d"
      },
      "outputs": [
        {
          "output_type": "stream",
          "name": "stdout",
          "text": [
            "(364171, 10)\n"
          ]
        },
        {
          "output_type": "execute_result",
          "data": {
            "text/plain": [
              "   Id   ProductId          UserId                      ProfileName  \\\n",
              "0   1  B001E4KFG0  A3SGXH7AUHU8GW                       delmartian   \n",
              "1   2  B00813GRG4  A1D87F6ZCVE5NK                           dll pa   \n",
              "2   3  B000LQOCH0   ABXLMWJIXXAIN  Natalia Corres \"Natalia Corres\"   \n",
              "\n",
              "   HelpfulnessNumerator  HelpfulnessDenominator  Score        Time  \\\n",
              "0                     1                       1      1  1303862400   \n",
              "1                     0                       0      0  1346976000   \n",
              "2                     1                       1      1  1219017600   \n",
              "\n",
              "                 Summary                                               Text  \n",
              "0  Good Quality Dog Food  I have bought several of the Vitality canned d...  \n",
              "1      Not as Advertised  Product arrived labeled as Jumbo Salted Peanut...  \n",
              "2  \"Delight\" says it all  This is a confection that has been around a fe...  "
            ],
            "text/html": [
              "\n",
              "  <div id=\"df-4d3aeead-06d5-41f5-8aea-5c119be8c53d\">\n",
              "    <div class=\"colab-df-container\">\n",
              "      <div>\n",
              "<style scoped>\n",
              "    .dataframe tbody tr th:only-of-type {\n",
              "        vertical-align: middle;\n",
              "    }\n",
              "\n",
              "    .dataframe tbody tr th {\n",
              "        vertical-align: top;\n",
              "    }\n",
              "\n",
              "    .dataframe thead th {\n",
              "        text-align: right;\n",
              "    }\n",
              "</style>\n",
              "<table border=\"1\" class=\"dataframe\">\n",
              "  <thead>\n",
              "    <tr style=\"text-align: right;\">\n",
              "      <th></th>\n",
              "      <th>Id</th>\n",
              "      <th>ProductId</th>\n",
              "      <th>UserId</th>\n",
              "      <th>ProfileName</th>\n",
              "      <th>HelpfulnessNumerator</th>\n",
              "      <th>HelpfulnessDenominator</th>\n",
              "      <th>Score</th>\n",
              "      <th>Time</th>\n",
              "      <th>Summary</th>\n",
              "      <th>Text</th>\n",
              "    </tr>\n",
              "  </thead>\n",
              "  <tbody>\n",
              "    <tr>\n",
              "      <th>0</th>\n",
              "      <td>1</td>\n",
              "      <td>B001E4KFG0</td>\n",
              "      <td>A3SGXH7AUHU8GW</td>\n",
              "      <td>delmartian</td>\n",
              "      <td>1</td>\n",
              "      <td>1</td>\n",
              "      <td>1</td>\n",
              "      <td>1303862400</td>\n",
              "      <td>Good Quality Dog Food</td>\n",
              "      <td>I have bought several of the Vitality canned d...</td>\n",
              "    </tr>\n",
              "    <tr>\n",
              "      <th>1</th>\n",
              "      <td>2</td>\n",
              "      <td>B00813GRG4</td>\n",
              "      <td>A1D87F6ZCVE5NK</td>\n",
              "      <td>dll pa</td>\n",
              "      <td>0</td>\n",
              "      <td>0</td>\n",
              "      <td>0</td>\n",
              "      <td>1346976000</td>\n",
              "      <td>Not as Advertised</td>\n",
              "      <td>Product arrived labeled as Jumbo Salted Peanut...</td>\n",
              "    </tr>\n",
              "    <tr>\n",
              "      <th>2</th>\n",
              "      <td>3</td>\n",
              "      <td>B000LQOCH0</td>\n",
              "      <td>ABXLMWJIXXAIN</td>\n",
              "      <td>Natalia Corres \"Natalia Corres\"</td>\n",
              "      <td>1</td>\n",
              "      <td>1</td>\n",
              "      <td>1</td>\n",
              "      <td>1219017600</td>\n",
              "      <td>\"Delight\" says it all</td>\n",
              "      <td>This is a confection that has been around a fe...</td>\n",
              "    </tr>\n",
              "  </tbody>\n",
              "</table>\n",
              "</div>\n",
              "      <button class=\"colab-df-convert\" onclick=\"convertToInteractive('df-4d3aeead-06d5-41f5-8aea-5c119be8c53d')\"\n",
              "              title=\"Convert this dataframe to an interactive table.\"\n",
              "              style=\"display:none;\">\n",
              "        \n",
              "  <svg xmlns=\"http://www.w3.org/2000/svg\" height=\"24px\"viewBox=\"0 0 24 24\"\n",
              "       width=\"24px\">\n",
              "    <path d=\"M0 0h24v24H0V0z\" fill=\"none\"/>\n",
              "    <path d=\"M18.56 5.44l.94 2.06.94-2.06 2.06-.94-2.06-.94-.94-2.06-.94 2.06-2.06.94zm-11 1L8.5 8.5l.94-2.06 2.06-.94-2.06-.94L8.5 2.5l-.94 2.06-2.06.94zm10 10l.94 2.06.94-2.06 2.06-.94-2.06-.94-.94-2.06-.94 2.06-2.06.94z\"/><path d=\"M17.41 7.96l-1.37-1.37c-.4-.4-.92-.59-1.43-.59-.52 0-1.04.2-1.43.59L10.3 9.45l-7.72 7.72c-.78.78-.78 2.05 0 2.83L4 21.41c.39.39.9.59 1.41.59.51 0 1.02-.2 1.41-.59l7.78-7.78 2.81-2.81c.8-.78.8-2.07 0-2.86zM5.41 20L4 18.59l7.72-7.72 1.47 1.35L5.41 20z\"/>\n",
              "  </svg>\n",
              "      </button>\n",
              "      \n",
              "  <style>\n",
              "    .colab-df-container {\n",
              "      display:flex;\n",
              "      flex-wrap:wrap;\n",
              "      gap: 12px;\n",
              "    }\n",
              "\n",
              "    .colab-df-convert {\n",
              "      background-color: #E8F0FE;\n",
              "      border: none;\n",
              "      border-radius: 50%;\n",
              "      cursor: pointer;\n",
              "      display: none;\n",
              "      fill: #1967D2;\n",
              "      height: 32px;\n",
              "      padding: 0 0 0 0;\n",
              "      width: 32px;\n",
              "    }\n",
              "\n",
              "    .colab-df-convert:hover {\n",
              "      background-color: #E2EBFA;\n",
              "      box-shadow: 0px 1px 2px rgba(60, 64, 67, 0.3), 0px 1px 3px 1px rgba(60, 64, 67, 0.15);\n",
              "      fill: #174EA6;\n",
              "    }\n",
              "\n",
              "    [theme=dark] .colab-df-convert {\n",
              "      background-color: #3B4455;\n",
              "      fill: #D2E3FC;\n",
              "    }\n",
              "\n",
              "    [theme=dark] .colab-df-convert:hover {\n",
              "      background-color: #434B5C;\n",
              "      box-shadow: 0px 1px 3px 1px rgba(0, 0, 0, 0.15);\n",
              "      filter: drop-shadow(0px 1px 2px rgba(0, 0, 0, 0.3));\n",
              "      fill: #FFFFFF;\n",
              "    }\n",
              "  </style>\n",
              "\n",
              "      <script>\n",
              "        const buttonEl =\n",
              "          document.querySelector('#df-4d3aeead-06d5-41f5-8aea-5c119be8c53d button.colab-df-convert');\n",
              "        buttonEl.style.display =\n",
              "          google.colab.kernel.accessAllowed ? 'block' : 'none';\n",
              "\n",
              "        async function convertToInteractive(key) {\n",
              "          const element = document.querySelector('#df-4d3aeead-06d5-41f5-8aea-5c119be8c53d');\n",
              "          const dataTable =\n",
              "            await google.colab.kernel.invokeFunction('convertToInteractive',\n",
              "                                                     [key], {});\n",
              "          if (!dataTable) return;\n",
              "\n",
              "          const docLinkHtml = 'Like what you see? Visit the ' +\n",
              "            '<a target=\"_blank\" href=https://colab.research.google.com/notebooks/data_table.ipynb>data table notebook</a>'\n",
              "            + ' to learn more about interactive tables.';\n",
              "          element.innerHTML = '';\n",
              "          dataTable['output_type'] = 'display_data';\n",
              "          await google.colab.output.renderOutput(dataTable, element);\n",
              "          const docLink = document.createElement('div');\n",
              "          docLink.innerHTML = docLinkHtml;\n",
              "          element.appendChild(docLink);\n",
              "        }\n",
              "      </script>\n",
              "    </div>\n",
              "  </div>\n",
              "  "
            ]
          },
          "metadata": {},
          "execution_count": 47
        }
      ],
      "source": [
        "#\"HelpfulnessNumerator\" can't be grater than \"HelpfulnessDenominator\"\n",
        "#so taking dataframe inwhich \"HelpfulnessNumerator\" less than or equal to \"HelpfulnessDenominator\"\n",
        "\n",
        "data = data[data['HelpfulnessNumerator'] <= data['HelpfulnessDenominator']]\n",
        "data.reset_index(drop = True, inplace=True)\n",
        "print(data.shape)\n",
        "data.head(3)"
      ]
    },
    {
      "cell_type": "code",
      "execution_count": 48,
      "metadata": {
        "id": "22dTloPRcHN6",
        "colab": {
          "base_uri": "https://localhost:8080/"
        },
        "outputId": "c6b4decc-d4f6-440c-f5d0-3535229f174d"
      },
      "outputs": [
        {
          "output_type": "execute_result",
          "data": {
            "text/plain": [
              "Id                         0\n",
              "ProductId                  0\n",
              "UserId                     0\n",
              "ProfileName               11\n",
              "HelpfulnessNumerator       0\n",
              "HelpfulnessDenominator     0\n",
              "Score                      0\n",
              "Time                       0\n",
              "Summary                    1\n",
              "Text                       0\n",
              "dtype: int64"
            ]
          },
          "metadata": {},
          "execution_count": 48
        }
      ],
      "source": [
        "#Identifing missing Values\n",
        "miss_val = data.isna().sum()\n",
        "miss_val"
      ]
    },
    {
      "cell_type": "code",
      "source": [
        "data.dropna(inplace = True)"
      ],
      "metadata": {
        "id": "h0EfA1G0aNFp"
      },
      "execution_count": 49,
      "outputs": []
    },
    {
      "cell_type": "code",
      "source": [
        "data.isna().sum()"
      ],
      "metadata": {
        "colab": {
          "base_uri": "https://localhost:8080/"
        },
        "id": "Ds2eDmN7az7x",
        "outputId": "116cc873-4382-42d8-e26f-9a0a9bfe18cb"
      },
      "execution_count": 50,
      "outputs": [
        {
          "output_type": "execute_result",
          "data": {
            "text/plain": [
              "Id                        0\n",
              "ProductId                 0\n",
              "UserId                    0\n",
              "ProfileName               0\n",
              "HelpfulnessNumerator      0\n",
              "HelpfulnessDenominator    0\n",
              "Score                     0\n",
              "Time                      0\n",
              "Summary                   0\n",
              "Text                      0\n",
              "dtype: int64"
            ]
          },
          "metadata": {},
          "execution_count": 50
        }
      ]
    },
    {
      "cell_type": "code",
      "execution_count": 51,
      "metadata": {
        "id": "UKosXy6WcHN7",
        "colab": {
          "base_uri": "https://localhost:8080/",
          "height": 388
        },
        "outputId": "f28c3e00-7e69-48c5-fbbd-df2a9e67386c"
      },
      "outputs": [
        {
          "output_type": "stream",
          "name": "stdout",
          "text": [
            "1    307054\n",
            "0     57105\n",
            "Name: Score, dtype: int64\n",
            "**************************************************\n"
          ]
        },
        {
          "output_type": "execute_result",
          "data": {
            "text/plain": [
              "Text(0.5, 1.0, 'Score distribution')"
            ]
          },
          "metadata": {},
          "execution_count": 51
        },
        {
          "output_type": "display_data",
          "data": {
            "text/plain": [
              "<Figure size 432x288 with 1 Axes>"
            ],
            "image/png": "[encoded data removed]"
          },
          "metadata": {}
        }
      ],
      "source": [
        "#data points for each class\n",
        "print(data['Score'].value_counts())\n",
        "print(\"*\"*50)\n",
        "\n",
        "#Count plot for Score\n",
        "sns.countplot('Score',data = data)\n",
        "plt.title(\"Score distribution\")"
      ]
    },
    {
      "cell_type": "markdown",
      "metadata": {
        "id": "J2MN_f_ZcHN7"
      },
      "source": [
        "## Text Preprocessing: Stemming, stop-word removal and Lemmatization."
      ]
    },
    {
      "cell_type": "code",
      "execution_count": 52,
      "metadata": {
        "id": "vE8hBi00cHN8",
        "colab": {
          "base_uri": "https://localhost:8080/"
        },
        "outputId": "59a8084c-8664-4da8-fdcc-de62cf5b6c7a"
      },
      "outputs": [
        {
          "output_type": "stream",
          "name": "stdout",
          "text": [
            "[nltk_data] Downloading package stopwords to /root/nltk_data...\n",
            "[nltk_data]   Package stopwords is already up-to-date!\n",
            "[nltk_data] Downloading package punkt to /root/nltk_data...\n",
            "[nltk_data]   Package punkt is already up-to-date!\n",
            "[nltk_data] Downloading package wordnet to /root/nltk_data...\n",
            "[nltk_data]   Package wordnet is already up-to-date!\n"
          ]
        }
      ],
      "source": [
        "#set of stopwords\n",
        "import nltk\n",
        "nltk.download(\"stopwords\")\n",
        "nltk.download(\"punkt\")\n",
        "nltk.download(\"wordnet\")\n",
        "\n",
        "import re\n",
        "import nltk\n",
        "from nltk.corpus import stopwords\n",
        "stop = set(stopwords.words('english'))\n",
        "\n",
        "#initialising the snowball stemmer\n",
        "sno = nltk.stem.SnowballStemmer('english')                      \n",
        "\n",
        "\n",
        "#function to clean the word of any html-tags\n",
        "def cleanhtml(sentence): \n",
        "    cleanr = re.compile('<.*?>')\n",
        "    cleantext = re.sub(cleanr, ' ', sentence)\n",
        "    return cleantext\n",
        "\n",
        "\n",
        "\n",
        "#function to clean the word of any punctuation or special characters\n",
        "def cleanpunc(sentence): \n",
        "    cleaned = re.sub(r'[?|!|\\'|\"|#]',r'',sentence)\n",
        "    cleaned = re.sub(r'[.|,|)|(|\\|/]',r' ',cleaned)\n",
        "    return  cleaned\n",
        "\n",
        "\n",
        "#function to text summarization\n",
        "def final_sentence(text):\n",
        "    \n",
        "    text = text.split()\n",
        "    text = [cleanhtml(x) for x in text]\n",
        "    text = [cleanpunc(x) for x in text]\n",
        "    \n",
        "    def test(word):\n",
        "        if word.isalpha() and len(word) > 2 and word.lower() not in stop:\n",
        "            return True\n",
        "        else:\n",
        "            return False\n",
        "    \n",
        "    text = [x for x in text if test(x)]\n",
        "    \n",
        "    return ' '.join(text)"
      ]
    },
    {
      "cell_type": "code",
      "execution_count": 53,
      "metadata": {
        "id": "7eu21ayhcHN8",
        "colab": {
          "base_uri": "https://localhost:8080/",
          "height": 354
        },
        "outputId": "9dccb728-f7b6-4ced-b6e7-3fc8b0020ce5"
      },
      "outputs": [
        {
          "output_type": "stream",
          "name": "stdout",
          "text": [
            "(364159, 11)\n"
          ]
        },
        {
          "output_type": "execute_result",
          "data": {
            "text/plain": [
              "   Id   ProductId          UserId                      ProfileName  \\\n",
              "0   1  B001E4KFG0  A3SGXH7AUHU8GW                       delmartian   \n",
              "1   2  B00813GRG4  A1D87F6ZCVE5NK                           dll pa   \n",
              "2   3  B000LQOCH0   ABXLMWJIXXAIN  Natalia Corres \"Natalia Corres\"   \n",
              "3   4  B000UA0QIQ  A395BORC6FGVXV                             Karl   \n",
              "4   5  B006K2ZZ7K  A1UQRSCLF8GW1T    Michael D. Bigham \"M. Wassir\"   \n",
              "\n",
              "   HelpfulnessNumerator  HelpfulnessDenominator  Score        Time  \\\n",
              "0                     1                       1      1  1303862400   \n",
              "1                     0                       0      0  1346976000   \n",
              "2                     1                       1      1  1219017600   \n",
              "3                     3                       3      0  1307923200   \n",
              "4                     0                       0      1  1350777600   \n",
              "\n",
              "                 Summary                                               Text  \\\n",
              "0  Good Quality Dog Food  I have bought several of the Vitality canned d...   \n",
              "1      Not as Advertised  Product arrived labeled as Jumbo Salted Peanut...   \n",
              "2  \"Delight\" says it all  This is a confection that has been around a fe...   \n",
              "3         Cough Medicine  If you are looking for the secret ingredient i...   \n",
              "4            Great taffy  Great taffy at a great price.  There was a wid...   \n",
              "\n",
              "                                         CleanedText  \n",
              "0  bought several Vitality canned dog food produc...  \n",
              "1  Product arrived labeled Jumbo Salted peanuts a...  \n",
              "2  confection around pillowy citrus gelatin nuts ...  \n",
              "3  looking secret ingredient Robitussin believe f...  \n",
              "4  Great taffy great wide assortment yummy Delive...  "
            ],
            "text/html": [
              "\n",
              "  <div id=\"df-9251f9b9-355e-413b-97df-608ddcaea474\">\n",
              "    <div class=\"colab-df-container\">\n",
              "      <div>\n",
              "<style scoped>\n",
              "    .dataframe tbody tr th:only-of-type {\n",
              "        vertical-align: middle;\n",
              "    }\n",
              "\n",
              "    .dataframe tbody tr th {\n",
              "        vertical-align: top;\n",
              "    }\n",
              "\n",
              "    .dataframe thead th {\n",
              "        text-align: right;\n",
              "    }\n",
              "</style>\n",
              "<table border=\"1\" class=\"dataframe\">\n",
              "  <thead>\n",
              "    <tr style=\"text-align: right;\">\n",
              "      <th></th>\n",
              "      <th>Id</th>\n",
              "      <th>ProductId</th>\n",
              "      <th>UserId</th>\n",
              "      <th>ProfileName</th>\n",
              "      <th>HelpfulnessNumerator</th>\n",
              "      <th>HelpfulnessDenominator</th>\n",
              "      <th>Score</th>\n",
              "      <th>Time</th>\n",
              "      <th>Summary</th>\n",
              "      <th>Text</th>\n",
              "      <th>CleanedText</th>\n",
              "    </tr>\n",
              "  </thead>\n",
              "  <tbody>\n",
              "    <tr>\n",
              "      <th>0</th>\n",
              "      <td>1</td>\n",
              "      <td>B001E4KFG0</td>\n",
              "      <td>A3SGXH7AUHU8GW</td>\n",
              "      <td>delmartian</td>\n",
              "      <td>1</td>\n",
              "      <td>1</td>\n",
              "      <td>1</td>\n",
              "      <td>1303862400</td>\n",
              "      <td>Good Quality Dog Food</td>\n",
              "      <td>I have bought several of the Vitality canned d...</td>\n",
              "      <td>bought several Vitality canned dog food produc...</td>\n",
              "    </tr>\n",
              "    <tr>\n",
              "      <th>1</th>\n",
              "      <td>2</td>\n",
              "      <td>B00813GRG4</td>\n",
              "      <td>A1D87F6ZCVE5NK</td>\n",
              "      <td>dll pa</td>\n",
              "      <td>0</td>\n",
              "      <td>0</td>\n",
              "      <td>0</td>\n",
              "      <td>1346976000</td>\n",
              "      <td>Not as Advertised</td>\n",
              "      <td>Product arrived labeled as Jumbo Salted Peanut...</td>\n",
              "      <td>Product arrived labeled Jumbo Salted peanuts a...</td>\n",
              "    </tr>\n",
              "    <tr>\n",
              "      <th>2</th>\n",
              "      <td>3</td>\n",
              "      <td>B000LQOCH0</td>\n",
              "      <td>ABXLMWJIXXAIN</td>\n",
              "      <td>Natalia Corres \"Natalia Corres\"</td>\n",
              "      <td>1</td>\n",
              "      <td>1</td>\n",
              "      <td>1</td>\n",
              "      <td>1219017600</td>\n",
              "      <td>\"Delight\" says it all</td>\n",
              "      <td>This is a confection that has been around a fe...</td>\n",
              "      <td>confection around pillowy citrus gelatin nuts ...</td>\n",
              "    </tr>\n",
              "    <tr>\n",
              "      <th>3</th>\n",
              "      <td>4</td>\n",
              "      <td>B000UA0QIQ</td>\n",
              "      <td>A395BORC6FGVXV</td>\n",
              "      <td>Karl</td>\n",
              "      <td>3</td>\n",
              "      <td>3</td>\n",
              "      <td>0</td>\n",
              "      <td>1307923200</td>\n",
              "      <td>Cough Medicine</td>\n",
              "      <td>If you are looking for the secret ingredient i...</td>\n",
              "      <td>looking secret ingredient Robitussin believe f...</td>\n",
              "    </tr>\n",
              "    <tr>\n",
              "      <th>4</th>\n",
              "      <td>5</td>\n",
              "      <td>B006K2ZZ7K</td>\n",
              "      <td>A1UQRSCLF8GW1T</td>\n",
              "      <td>Michael D. Bigham \"M. Wassir\"</td>\n",
              "      <td>0</td>\n",
              "      <td>0</td>\n",
              "      <td>1</td>\n",
              "      <td>1350777600</td>\n",
              "      <td>Great taffy</td>\n",
              "      <td>Great taffy at a great price.  There was a wid...</td>\n",
              "      <td>Great taffy great wide assortment yummy Delive...</td>\n",
              "    </tr>\n",
              "  </tbody>\n",
              "</table>\n",
              "</div>\n",
              "      <button class=\"colab-df-convert\" onclick=\"convertToInteractive('df-9251f9b9-355e-413b-97df-608ddcaea474')\"\n",
              "              title=\"Convert this dataframe to an interactive table.\"\n",
              "              style=\"display:none;\">\n",
              "        \n",
              "  <svg xmlns=\"http://www.w3.org/2000/svg\" height=\"24px\"viewBox=\"0 0 24 24\"\n",
              "       width=\"24px\">\n",
              "    <path d=\"M0 0h24v24H0V0z\" fill=\"none\"/>\n",
              "    <path d=\"M18.56 5.44l.94 2.06.94-2.06 2.06-.94-2.06-.94-.94-2.06-.94 2.06-2.06.94zm-11 1L8.5 8.5l.94-2.06 2.06-.94-2.06-.94L8.5 2.5l-.94 2.06-2.06.94zm10 10l.94 2.06.94-2.06 2.06-.94-2.06-.94-.94-2.06-.94 2.06-2.06.94z\"/><path d=\"M17.41 7.96l-1.37-1.37c-.4-.4-.92-.59-1.43-.59-.52 0-1.04.2-1.43.59L10.3 9.45l-7.72 7.72c-.78.78-.78 2.05 0 2.83L4 21.41c.39.39.9.59 1.41.59.51 0 1.02-.2 1.41-.59l7.78-7.78 2.81-2.81c.8-.78.8-2.07 0-2.86zM5.41 20L4 18.59l7.72-7.72 1.47 1.35L5.41 20z\"/>\n",
              "  </svg>\n",
              "      </button>\n",
              "      \n",
              "  <style>\n",
              "    .colab-df-container {\n",
              "      display:flex;\n",
              "      flex-wrap:wrap;\n",
              "      gap: 12px;\n",
              "    }\n",
              "\n",
              "    .colab-df-convert {\n",
              "      background-color: #E8F0FE;\n",
              "      border: none;\n",
              "      border-radius: 50%;\n",
              "      cursor: pointer;\n",
              "      display: none;\n",
              "      fill: #1967D2;\n",
              "      height: 32px;\n",
              "      padding: 0 0 0 0;\n",
              "      width: 32px;\n",
              "    }\n",
              "\n",
              "    .colab-df-convert:hover {\n",
              "      background-color: #E2EBFA;\n",
              "      box-shadow: 0px 1px 2px rgba(60, 64, 67, 0.3), 0px 1px 3px 1px rgba(60, 64, 67, 0.15);\n",
              "      fill: #174EA6;\n",
              "    }\n",
              "\n",
              "    [theme=dark] .colab-df-convert {\n",
              "      background-color: #3B4455;\n",
              "      fill: #D2E3FC;\n",
              "    }\n",
              "\n",
              "    [theme=dark] .colab-df-convert:hover {\n",
              "      background-color: #434B5C;\n",
              "      box-shadow: 0px 1px 3px 1px rgba(0, 0, 0, 0.15);\n",
              "      filter: drop-shadow(0px 1px 2px rgba(0, 0, 0, 0.3));\n",
              "      fill: #FFFFFF;\n",
              "    }\n",
              "  </style>\n",
              "\n",
              "      <script>\n",
              "        const buttonEl =\n",
              "          document.querySelector('#df-9251f9b9-355e-413b-97df-608ddcaea474 button.colab-df-convert');\n",
              "        buttonEl.style.display =\n",
              "          google.colab.kernel.accessAllowed ? 'block' : 'none';\n",
              "\n",
              "        async function convertToInteractive(key) {\n",
              "          const element = document.querySelector('#df-9251f9b9-355e-413b-97df-608ddcaea474');\n",
              "          const dataTable =\n",
              "            await google.colab.kernel.invokeFunction('convertToInteractive',\n",
              "                                                     [key], {});\n",
              "          if (!dataTable) return;\n",
              "\n",
              "          const docLinkHtml = 'Like what you see? Visit the ' +\n",
              "            '<a target=\"_blank\" href=https://colab.research.google.com/notebooks/data_table.ipynb>data table notebook</a>'\n",
              "            + ' to learn more about interactive tables.';\n",
              "          element.innerHTML = '';\n",
              "          dataTable['output_type'] = 'display_data';\n",
              "          await google.colab.output.renderOutput(dataTable, element);\n",
              "          const docLink = document.createElement('div');\n",
              "          docLink.innerHTML = docLinkHtml;\n",
              "          element.appendChild(docLink);\n",
              "        }\n",
              "      </script>\n",
              "    </div>\n",
              "  </div>\n",
              "  "
            ]
          },
          "metadata": {},
          "execution_count": 53
        }
      ],
      "source": [
        "data['CleanedText'] = data['Text'].apply(final_sentence)\n",
        "print(data.shape)\n",
        "data.head()"
      ]
    },
    {
      "cell_type": "markdown",
      "metadata": {
        "id": "_TGgpyDkcHN9"
      },
      "source": [
        "### Converting Text data into vector "
      ]
    },
    {
      "cell_type": "code",
      "execution_count": 54,
      "metadata": {
        "id": "qUqbqU4hcHN9"
      },
      "outputs": [],
      "source": [
        "def Text_Into_Vector(model,data):\n",
        "    model_vect = model(ngram_range=(1,2)) #in scikit-learn\n",
        "    final_array = model_vect.fit_transform(data.values)\n",
        "\n",
        "    print(\"the type of count vectorizer \",type(final_array))\n",
        "    print(\"the shape of out text BOW vectorizer \",final_array.get_shape())\n",
        "    print(\"the number of unique words including both unigrams and bigrams \", final_array.get_shape()[1])\n",
        "    \n",
        "    return model_vect, final_array"
      ]
    },
    {
      "cell_type": "markdown",
      "metadata": {
        "id": "xq3COaVlcHN9"
      },
      "source": [
        "## Spliting data"
      ]
    },
    {
      "cell_type": "code",
      "execution_count": 63,
      "metadata": {
        "id": "fgjdDDwAcHN9"
      },
      "outputs": [],
      "source": [
        "#split data into train, cross validate and test \n",
        "from sklearn.model_selection import train_test_split\n",
        "\n",
        "def Split_data(x_vec, y_vec):\n",
        "    X_train, X_test, Y_train, Y_test = train_test_split(x_vec, y_vec, test_size=.33, random_state=0)\n",
        "    X_tr, X_cv, Y_tr, Y_cv = train_test_split(X_train, Y_train, test_size=.33, random_state=0)\n",
        "    return X_tr, X_cv, X_test, Y_tr, Y_test, Y_cv, X_train, Y_train"
      ]
    },
    {
      "cell_type": "markdown",
      "metadata": {
        "id": "F37HZLBvcHN9"
      },
      "source": [
        "## Normalize Data"
      ]
    },
    {
      "cell_type": "code",
      "execution_count": 60,
      "metadata": {
        "id": "L0D0HzCucHN-"
      },
      "outputs": [],
      "source": [
        "#Normalize Data\n",
        "from sklearn import preprocessing\n",
        "from sklearn.preprocessing import Normalizer\n",
        "\n",
        "def Normalization(train, cv, test):\n",
        "    train=preprocessing.normalize(train)\n",
        "    cv=preprocessing.normalize(cv)\n",
        "    test=preprocessing.normalize(test)\n",
        "\n",
        "    print(\"Train Data Size \",train.get_shape())\n",
        "    print(\"CV Data Size: \",cv.shape)\n",
        "    print(\"Test Data Size: \",test.shape)\n",
        "    \n",
        "    return train, cv, test"
      ]
    },
    {
      "cell_type": "markdown",
      "metadata": {
        "id": "QgRoxVPMcHN-"
      },
      "source": [
        "### Training Multinomial Naive Bayes Model"
      ]
    },
    {
      "cell_type": "code",
      "execution_count": 61,
      "metadata": {
        "id": "VzVukXjUcHN-"
      },
      "outputs": [],
      "source": [
        "from sklearn.naive_bayes import MultinomialNB\n",
        "from sklearn.metrics import roc_auc_score\n",
        "from sklearn.metrics import roc_curve\n",
        "import matplotlib.pylab as pyplt\n",
        "\n",
        "def Multinomial_NB(X_train,X_cv,Y_train,Y_cv):\n",
        "    #############################################################################\n",
        "    best_alpha=0\n",
        "    max_roc_auc=-1\n",
        "    pred_cv = []\n",
        "    pred_train = []\n",
        "    alpha=[10000,5000,1000,500,100,50,10,5,1,0.5,0.1,0.05,0.01,0.005,0.001,0.0005,0.0001,0.00005,0.00001]\n",
        "    #############################################################################\n",
        "\n",
        "    for i in alpha:\n",
        "        mulbnb = MultinomialNB(alpha=i)\n",
        "        mulbnb.fit(X_train,Y_train)\n",
        "        probs = mulbnb.predict_proba(X_cv)[:,1]     \n",
        "        prob = mulbnb.predict_proba(X_train)[:,1]\n",
        "        #############################################################################\n",
        "\n",
        "        auc_score_cv = roc_auc_score(Y_cv,probs)            #auc roc for cv\n",
        "        auc_score_train = roc_auc_score(Y_train,prob)       #auc roc for train\n",
        "        #############################################################################\n",
        "\n",
        "        print(i,\" ------> \",auc_score_cv)\n",
        "        #############################################################################\n",
        "\n",
        "        pred_cv.append(auc_score_cv)\n",
        "        pred_train.append(auc_score_train)\n",
        "        #############################################################################\n",
        "\n",
        "        if(max_roc_auc<auc_score_cv):\n",
        "            max_roc_auc=auc_score_cv\n",
        "            best_alpha=i\n",
        "\n",
        "    print(\"*\"*100)\n",
        "    print(f\"\\n Best alpha Value {best_alpha} with highest roc_auc Score is {max_roc_auc}\")\n",
        "    print(\"*\"*100)\n",
        "    #############################################################################\n",
        "\n",
        "    sns.set_style(\"darkgrid\")\n",
        "    plt.xscale('log')\n",
        "    plt.plot(alpha, pred_cv,'r-', label = 'CV Data')\n",
        "    plt.plot(alpha,pred_train,'g-', label ='Train Data')\n",
        "    plt.legend(loc='upper right')\n",
        "    plt.title(r'Auc Score v/s $\\alpha$')\n",
        "    plt.xlabel(r\"alpha values\",fontsize=12)\n",
        "    plt.ylabel(\"roc_auc\",fontsize=12)\n",
        "    plt.show()\n",
        "    print(\"*\"*100)\n",
        "    #############################################################################\n",
        "\n",
        "    # calculate roc curve\n",
        "    fpr, tpr, thresholds = roc_curve(Y_cv,probs)\n",
        "    # plot no skill\n",
        "    pyplt.plot([0, 1], [0, 1], linestyle='--')\n",
        "    # plot the roc curve for the model\n",
        "    pyplt.plot(fpr, tpr, marker='.')\n",
        "    pyplt.title(\"Line Plot of ROC Curve on Train Data\")\n",
        "    pyplt.ylabel('True Positive Rate')\n",
        "    pyplt.xlabel('False Positive Rate')\n",
        "    pyplt.show()\n",
        "    print(\"*\"*100)\n",
        "    \n",
        "    #############################################################################\n",
        "    return best_alpha"
      ]
    },
    {
      "cell_type": "markdown",
      "metadata": {
        "id": "eGVgUTPZcHN-"
      },
      "source": [
        "### Testing Multinomial Naive Bayes Model"
      ]
    },
    {
      "cell_type": "code",
      "execution_count": 97,
      "metadata": {
        "id": "6o0LPNwUcHN_"
      },
      "outputs": [],
      "source": [
        "import sklearn.metrics as skplt\n",
        "from sklearn import metrics\n",
        "from sklearn.metrics import confusion_matrix\n",
        "\n",
        "\n",
        "def Testing_model(X_train,Y_train,X_test,Y_test,best_alpha):\n",
        "    \n",
        "    #############################################################################\n",
        "    bnb = MultinomialNB(alpha = best_alpha, fit_prior=True, class_prior=None)\n",
        "    bnb.fit(X_train,Y_train)\n",
        "    probs = bnb.predict_proba(X_test)[:,1]            # keep probabilities for the positive outcome only\n",
        "\n",
        "    #############################################################################\n",
        "    roc_auc = roc_auc_score(Y_test,probs)\n",
        "    print(\"AUC Score\",roc_auc)\n",
        "    print(\"*\"*70)\n",
        "    #############################################################################'\n",
        "\n",
        "    # calculate roc curve\n",
        "    fpr, tpr, thresholds = roc_curve(Y_test,probs)\n",
        "    # plot no skill\n",
        "    plt.plot([0, 1], [0, 1], linestyle='--')\n",
        "    # plot the roc curve for the model\n",
        "    plt.plot(fpr, tpr, marker='.')\n",
        "    plt.title(\"Line Plot of ROC Curve on Test Data\")\n",
        "    plt.ylabel('True Positive Rate')\n",
        "    plt.xlabel('False Positive Rate')    \n",
        "    plt.show()\n",
        "\n",
        "    #############################################################################\n",
        "    prediction=bnb.predict(X_test)\n",
        "    metrics.confusion_matrix(Y_test,prediction)\n",
        "    #############################################################################\n",
        "\n",
        "    print(\"macro f1 score for data :\",metrics.f1_score(Y_test, prediction, average = 'macro'))\n",
        "    print(\"micro f1 score for data:\",metrics.f1_score(Y_test, prediction, average = 'micro'))\n",
        "    print(\"hamming loss for data:\",metrics.hamming_loss(Y_test,prediction))\n",
        "    print(\"*\"*70)\n",
        "    print(\"Precision recall report for data:\\n\",metrics.classification_report(Y_test, prediction))\n",
        "    print(\"*\"*70)\n",
        "    \n",
        "    return bnb,roc_auc\n",
        "\n",
        "    #############################################################################"
      ]
    },
    {
      "cell_type": "markdown",
      "metadata": {
        "id": "ZljBi5CVcHN_"
      },
      "source": [
        "### Top features"
      ]
    },
    {
      "cell_type": "code",
      "execution_count": 83,
      "metadata": {
        "id": "ZHQuuJcacHN_"
      },
      "outputs": [],
      "source": [
        "def Important_features(model, classifier):\n",
        "    neg = classifier.feature_log_prob_[0].argsort()\n",
        "    pos = classifier.feature_log_prob_[1].argsort()\n",
        "    top_pos_words = np.take(model.get_feature_names(),pos)\n",
        "    top_neg_words = np.take(model.get_feature_names(),neg)\n",
        "    imp_df = pd.DataFrame(columns = ['Pos_Words','Pos_Importance','Neg_Words','Neg_Importance'])\n",
        "    imp_df['Pos_Words'] = top_pos_words[::-1]\n",
        "    imp_df['Pos_Importance'] = np.take(classifier.feature_log_prob_[1],pos)[::-1]\n",
        "    imp_df['Neg_Words'] = top_neg_words[::-1]\n",
        "    imp_df['Neg_Importance'] = np.take(classifier.feature_log_prob_[0],neg)[::-1]\n",
        "    return imp_df"
      ]
    },
    {
      "cell_type": "markdown",
      "metadata": {
        "id": "G5YDEhNGcHN_"
      },
      "source": [
        "### Individual Prediction"
      ]
    },
    {
      "cell_type": "code",
      "execution_count": 84,
      "metadata": {
        "id": "V7ff7ayFcHN_"
      },
      "outputs": [],
      "source": [
        "def Individual_Prediction(model, classifier, review):\n",
        "    review = final_sentence(review)\n",
        "    review_vec = model.transform([review])\n",
        "    review_vec = preprocessing.normalize(review_vec)\n",
        "    pred = classifier.predict(review_vec)\n",
        "\n",
        "    return \"positive review\" if pred[0] == 1 else \"negative review\""
      ]
    },
    {
      "cell_type": "markdown",
      "metadata": {
        "id": "sVDVZmYpcHOA"
      },
      "source": [
        "## Bag of Words (BoW)"
      ]
    },
    {
      "cell_type": "code",
      "execution_count": 85,
      "metadata": {
        "id": "ZSAyaCV6cHOA",
        "colab": {
          "base_uri": "https://localhost:8080/"
        },
        "outputId": "9a07ad1d-e219-49a1-f78f-189b49eb96f7"
      },
      "outputs": [
        {
          "output_type": "stream",
          "name": "stdout",
          "text": [
            "the type of count vectorizer  <class 'scipy.sparse.csr.csr_matrix'>\n",
            "the shape of out text BOW vectorizer  (364159, 3474639)\n",
            "the number of unique words including both unigrams and bigrams  3474639\n"
          ]
        }
      ],
      "source": [
        "from sklearn.feature_extraction.text import CountVectorizer\n",
        "\n",
        "BOW, X = Text_Into_Vector(CountVectorizer,data['CleanedText'])"
      ]
    },
    {
      "cell_type": "code",
      "execution_count": 86,
      "metadata": {
        "id": "2Sq6xGARcHOA",
        "colab": {
          "base_uri": "https://localhost:8080/"
        },
        "outputId": "ed12cc2a-fcfb-4634-d11f-0b60993c4bdb"
      },
      "outputs": [
        {
          "output_type": "execute_result",
          "data": {
            "text/plain": [
              "['aaa',\n",
              " 'aaa aaa',\n",
              " 'aaa able',\n",
              " 'aaa class',\n",
              " 'aaa cola',\n",
              " 'aaa condition',\n",
              " 'aaa dont',\n",
              " 'aaa hockey',\n",
              " 'aaa job',\n",
              " 'aaa magazine',\n",
              " 'aaa plus',\n",
              " 'aaa rating',\n",
              " 'aaa tue',\n",
              " 'aaaa',\n",
              " 'aaaaaaaaagghh',\n",
              " 'aaaaaaarrrrrggghhh',\n",
              " 'aaaaaaarrrrrggghhh dark',\n",
              " 'aaaaaah',\n",
              " 'aaaaaah melt',\n",
              " 'aaaaaahhh']"
            ]
          },
          "metadata": {},
          "execution_count": 86
        }
      ],
      "source": [
        "BOW.get_feature_names()[:20]"
      ]
    },
    {
      "cell_type": "code",
      "execution_count": 87,
      "metadata": {
        "id": "D10g_pq6cHOA",
        "colab": {
          "base_uri": "https://localhost:8080/"
        },
        "outputId": "fb3c0386-142f-4d6b-bda4-b019db161773"
      },
      "outputs": [
        {
          "output_type": "execute_result",
          "data": {
            "text/plain": [
              "{'analyzer': 'word',\n",
              " 'binary': False,\n",
              " 'decode_error': 'strict',\n",
              " 'dtype': numpy.int64,\n",
              " 'encoding': 'utf-8',\n",
              " 'input': 'content',\n",
              " 'lowercase': True,\n",
              " 'max_df': 1.0,\n",
              " 'max_features': None,\n",
              " 'min_df': 1,\n",
              " 'ngram_range': (1, 2),\n",
              " 'preprocessor': None,\n",
              " 'stop_words': None,\n",
              " 'strip_accents': None,\n",
              " 'token_pattern': '(?u)\\\\b\\\\w\\\\w+\\\\b',\n",
              " 'tokenizer': None,\n",
              " 'vocabulary': None}"
            ]
          },
          "metadata": {},
          "execution_count": 87
        }
      ],
      "source": [
        "BOW.get_params()"
      ]
    },
    {
      "cell_type": "code",
      "execution_count": 88,
      "metadata": {
        "id": "bsOauH6gcHOA"
      },
      "outputs": [],
      "source": [
        "#split data into train, cross validate and test \n",
        "\n",
        "X_tr, X_cv, X_test, Y_tr, Y_test, Y_cv, X_train, Y_train = Split_data(X, data['Score'])"
      ]
    },
    {
      "cell_type": "markdown",
      "source": [
        "Running SMOTE"
      ],
      "metadata": {
        "id": "ThbO5veAbcU4"
      }
    },
    {
      "cell_type": "code",
      "source": [
        "from imblearn.over_sampling import SMOTE\n",
        "\n",
        "sm = SMOTE()\n",
        "X_cv,Y_cv = sm.fit_resample(X_cv,Y_cv)\n",
        "X_tr,Y_tr = sm.fit_resample(X_tr,Y_tr)\n",
        "print(Y_cv.value_counts())\n",
        "Y_tr.value_counts()"
      ],
      "metadata": {
        "colab": {
          "base_uri": "https://localhost:8080/"
        },
        "id": "4hRroPKebfip",
        "outputId": "d3ddc10b-d211-4494-f28e-11209357cfa5"
      },
      "execution_count": 89,
      "outputs": [
        {
          "output_type": "stream",
          "name": "stdout",
          "text": [
            "1    67763\n",
            "0    67763\n",
            "Name: Score, dtype: int64\n"
          ]
        },
        {
          "output_type": "execute_result",
          "data": {
            "text/plain": [
              "1    137982\n",
              "0    137982\n",
              "Name: Score, dtype: int64"
            ]
          },
          "metadata": {},
          "execution_count": 89
        }
      ]
    },
    {
      "cell_type": "code",
      "execution_count": 90,
      "metadata": {
        "scrolled": true,
        "id": "4bVyjjydcHOB",
        "colab": {
          "base_uri": "https://localhost:8080/"
        },
        "outputId": "92f83b21-a965-4c9a-be48-f86ee33ad161"
      },
      "outputs": [
        {
          "output_type": "stream",
          "name": "stdout",
          "text": [
            "X_test, Y_test (120173, 3474639) (120173,)\n",
            "X_tr, Y_tr (275964, 3474639) (275964,)\n",
            "X_cv, Y_cv (135526, 3474639) (135526,)\n",
            "X_Train, Y_Train (243986, 3474639) (243986,)\n"
          ]
        }
      ],
      "source": [
        "print('X_test, Y_test', X_test.shape, Y_test.shape)\n",
        "print('X_tr, Y_tr', X_tr.shape, Y_tr.shape)\n",
        "print('X_cv, Y_cv', X_cv.shape, Y_cv.shape)\n",
        "print('X_Train, Y_Train', X_train.shape, Y_train.shape)"
      ]
    },
    {
      "cell_type": "code",
      "execution_count": 91,
      "metadata": {
        "id": "K4LgBfd2cHOB",
        "colab": {
          "base_uri": "https://localhost:8080/"
        },
        "outputId": "98da2c02-ad66-4460-bc74-8fe288c587af"
      },
      "outputs": [
        {
          "output_type": "stream",
          "name": "stdout",
          "text": [
            "Train Data Size  (275964, 3474639)\n",
            "CV Data Size:  (135526, 3474639)\n",
            "Test Data Size:  (120173, 3474639)\n"
          ]
        }
      ],
      "source": [
        "# Normalization\n",
        "\n",
        "X_tr, X_cv, X_test = Normalization(X_tr, X_cv, X_test)"
      ]
    },
    {
      "cell_type": "markdown",
      "metadata": {
        "id": "obfOrchtcHOB"
      },
      "source": [
        "#### Navie Bayes for BOW"
      ]
    },
    {
      "cell_type": "code",
      "execution_count": 92,
      "metadata": {
        "id": "VA7q--WJcHOB",
        "colab": {
          "base_uri": "https://localhost:8080/",
          "height": 1000
        },
        "outputId": "0ae68bd9-72b4-4257-9c49-5546173c0f37"
      },
      "outputs": [
        {
          "output_type": "stream",
          "name": "stdout",
          "text": [
            "10000  ------>  0.8896129064736407\n",
            "5000  ------>  0.8954181561998743\n",
            "1000  ------>  0.9146519397136785\n",
            "500  ------>  0.9234872109494312\n",
            "100  ------>  0.9401023541239172\n",
            "50  ------>  0.9453942608053728\n",
            "10  ------>  0.9548157491742146\n",
            "5  ------>  0.9582958094752778\n",
            "1  ------>  0.9672586152111438\n",
            "0.5  ------>  0.9716662530594387\n",
            "0.1  ------>  0.9666303627141346\n",
            "0.05  ------>  0.9513011139429804\n",
            "0.01  ------>  0.9347530432409291\n",
            "0.005  ------>  0.9387349099952003\n",
            "0.001  ------>  0.9491464667622816\n",
            "0.0005  ------>  0.9516711860401377\n",
            "0.0001  ------>  0.9543443332575046\n",
            "5e-05  ------>  0.9546645726538489\n",
            "1e-05  ------>  0.9541641671689193\n",
            "****************************************************************************************************\n",
            "\n",
            " Best alpha Value 0.5 with highest roc_auc Score is 0.9716662530594387\n",
            "****************************************************************************************************\n"
          ]
        },
        {
          "output_type": "display_data",
          "data": {
            "text/plain": [
              "<Figure size 432x288 with 1 Axes>"
            ],
            "image/png": "[encoded data removed]"
          },
          "metadata": {}
        },
        {
          "output_type": "stream",
          "name": "stdout",
          "text": [
            "****************************************************************************************************\n"
          ]
        },
        {
          "output_type": "display_data",
          "data": {
            "text/plain": [
              "<Figure size 432x288 with 1 Axes>"
            ],
            "image/png": "[encoded data removed]"
          },
          "metadata": {}
        },
        {
          "output_type": "stream",
          "name": "stdout",
          "text": [
            "****************************************************************************************************\n"
          ]
        }
      ],
      "source": [
        "#training NB \n",
        "\n",
        "best_alpha_bow = Multinomial_NB(X_tr,X_cv,Y_tr,Y_cv)"
      ]
    },
    {
      "cell_type": "code",
      "execution_count": 98,
      "metadata": {
        "id": "5nAlMp2dcHOB",
        "colab": {
          "base_uri": "https://localhost:8080/",
          "height": 596
        },
        "outputId": "e90beb0c-d532-4607-f16a-2cf5ee15036a"
      },
      "outputs": [
        {
          "output_type": "stream",
          "name": "stdout",
          "text": [
            "AUC Score 0.8771026823657794\n",
            "**********************************************************************\n"
          ]
        },
        {
          "output_type": "display_data",
          "data": {
            "text/plain": [
              "<Figure size 432x288 with 1 Axes>"
            ],
            "image/png": "[encoded data removed]"
          },
          "metadata": {}
        },
        {
          "output_type": "stream",
          "name": "stdout",
          "text": [
            "macro f1 score for data : 0.5404333594393012\n",
            "micro f1 score for data: 0.8556996995997436\n",
            "hamming loss for data: 0.1443003004002563\n",
            "**********************************************************************\n",
            "Precision recall report for data:\n",
            "               precision    recall  f1-score   support\n",
            "\n",
            "           0       0.93      0.09      0.16     18864\n",
            "           1       0.85      1.00      0.92    101309\n",
            "\n",
            "    accuracy                           0.86    120173\n",
            "   macro avg       0.89      0.54      0.54    120173\n",
            "weighted avg       0.87      0.86      0.80    120173\n",
            "\n",
            "**********************************************************************\n"
          ]
        }
      ],
      "source": [
        "# Testing NB Model\n",
        "from sklearn.metrics import plot_confusion_matrix\n",
        "\n",
        "NB_bow, roc_auc_bow = Testing_model(X_tr,Y_tr,X_test,Y_test,best_alpha_bow)"
      ]
    },
    {
      "cell_type": "code",
      "execution_count": 100,
      "metadata": {
        "id": "zjzFm-mFcHOC",
        "colab": {
          "base_uri": "https://localhost:8080/",
          "height": 424
        },
        "outputId": "2bc82dba-00c8-4f82-f33c-39833d3d077f"
      },
      "outputs": [
        {
          "output_type": "execute_result",
          "data": {
            "text/plain": [
              "                  Pos_Words  Pos_Importance         Neg_Words  Neg_Importance\n",
              "0                      like       -6.090527              like       -5.559328\n",
              "1                     great       -6.159834             would       -6.189845\n",
              "2                      good       -6.270802           product       -6.223373\n",
              "3                      love       -6.367118             taste       -6.258481\n",
              "4                       one       -6.524727            coffee       -6.364732\n",
              "...                     ...             ...               ...             ...\n",
              "3474634       salad thought      -15.488430  photo experience      -15.222974\n",
              "3474635          tin havent      -15.488430    photo expected      -15.222974\n",
              "3474636             imatcha      -15.488430      photo expect      -15.222974\n",
              "3474637       imatcha green      -15.488430    photo evidence      -15.222974\n",
              "3474638  tongue restaurants      -15.488430        liver dust      -15.222974\n",
              "\n",
              "[3474639 rows x 4 columns]"
            ],
            "text/html": [
              "\n",
              "  <div id=\"df-3be83344-bd06-4509-b038-635f78616068\">\n",
              "    <div class=\"colab-df-container\">\n",
              "      <div>\n",
              "<style scoped>\n",
              "    .dataframe tbody tr th:only-of-type {\n",
              "        vertical-align: middle;\n",
              "    }\n",
              "\n",
              "    .dataframe tbody tr th {\n",
              "        vertical-align: top;\n",
              "    }\n",
              "\n",
              "    .dataframe thead th {\n",
              "        text-align: right;\n",
              "    }\n",
              "</style>\n",
              "<table border=\"1\" class=\"dataframe\">\n",
              "  <thead>\n",
              "    <tr style=\"text-align: right;\">\n",
              "      <th></th>\n",
              "      <th>Pos_Words</th>\n",
              "      <th>Pos_Importance</th>\n",
              "      <th>Neg_Words</th>\n",
              "      <th>Neg_Importance</th>\n",
              "    </tr>\n",
              "  </thead>\n",
              "  <tbody>\n",
              "    <tr>\n",
              "      <th>0</th>\n",
              "      <td>like</td>\n",
              "      <td>-6.090527</td>\n",
              "      <td>like</td>\n",
              "      <td>-5.559328</td>\n",
              "    </tr>\n",
              "    <tr>\n",
              "      <th>1</th>\n",
              "      <td>great</td>\n",
              "      <td>-6.159834</td>\n",
              "      <td>would</td>\n",
              "      <td>-6.189845</td>\n",
              "    </tr>\n",
              "    <tr>\n",
              "      <th>2</th>\n",
              "      <td>good</td>\n",
              "      <td>-6.270802</td>\n",
              "      <td>product</td>\n",
              "      <td>-6.223373</td>\n",
              "    </tr>\n",
              "    <tr>\n",
              "      <th>3</th>\n",
              "      <td>love</td>\n",
              "      <td>-6.367118</td>\n",
              "      <td>taste</td>\n",
              "      <td>-6.258481</td>\n",
              "    </tr>\n",
              "    <tr>\n",
              "      <th>4</th>\n",
              "      <td>one</td>\n",
              "      <td>-6.524727</td>\n",
              "      <td>coffee</td>\n",
              "      <td>-6.364732</td>\n",
              "    </tr>\n",
              "    <tr>\n",
              "      <th>...</th>\n",
              "      <td>...</td>\n",
              "      <td>...</td>\n",
              "      <td>...</td>\n",
              "      <td>...</td>\n",
              "    </tr>\n",
              "    <tr>\n",
              "      <th>3474634</th>\n",
              "      <td>salad thought</td>\n",
              "      <td>-15.488430</td>\n",
              "      <td>photo experience</td>\n",
              "      <td>-15.222974</td>\n",
              "    </tr>\n",
              "    <tr>\n",
              "      <th>3474635</th>\n",
              "      <td>tin havent</td>\n",
              "      <td>-15.488430</td>\n",
              "      <td>photo expected</td>\n",
              "      <td>-15.222974</td>\n",
              "    </tr>\n",
              "    <tr>\n",
              "      <th>3474636</th>\n",
              "      <td>imatcha</td>\n",
              "      <td>-15.488430</td>\n",
              "      <td>photo expect</td>\n",
              "      <td>-15.222974</td>\n",
              "    </tr>\n",
              "    <tr>\n",
              "      <th>3474637</th>\n",
              "      <td>imatcha green</td>\n",
              "      <td>-15.488430</td>\n",
              "      <td>photo evidence</td>\n",
              "      <td>-15.222974</td>\n",
              "    </tr>\n",
              "    <tr>\n",
              "      <th>3474638</th>\n",
              "      <td>tongue restaurants</td>\n",
              "      <td>-15.488430</td>\n",
              "      <td>liver dust</td>\n",
              "      <td>-15.222974</td>\n",
              "    </tr>\n",
              "  </tbody>\n",
              "</table>\n",
              "<p>3474639 rows × 4 columns</p>\n",
              "</div>\n",
              "      <button class=\"colab-df-convert\" onclick=\"convertToInteractive('df-3be83344-bd06-4509-b038-635f78616068')\"\n",
              "              title=\"Convert this dataframe to an interactive table.\"\n",
              "              style=\"display:none;\">\n",
              "        \n",
              "  <svg xmlns=\"http://www.w3.org/2000/svg\" height=\"24px\"viewBox=\"0 0 24 24\"\n",
              "       width=\"24px\">\n",
              "    <path d=\"M0 0h24v24H0V0z\" fill=\"none\"/>\n",
              "    <path d=\"M18.56 5.44l.94 2.06.94-2.06 2.06-.94-2.06-.94-.94-2.06-.94 2.06-2.06.94zm-11 1L8.5 8.5l.94-2.06 2.06-.94-2.06-.94L8.5 2.5l-.94 2.06-2.06.94zm10 10l.94 2.06.94-2.06 2.06-.94-2.06-.94-.94-2.06-.94 2.06-2.06.94z\"/><path d=\"M17.41 7.96l-1.37-1.37c-.4-.4-.92-.59-1.43-.59-.52 0-1.04.2-1.43.59L10.3 9.45l-7.72 7.72c-.78.78-.78 2.05 0 2.83L4 21.41c.39.39.9.59 1.41.59.51 0 1.02-.2 1.41-.59l7.78-7.78 2.81-2.81c.8-.78.8-2.07 0-2.86zM5.41 20L4 18.59l7.72-7.72 1.47 1.35L5.41 20z\"/>\n",
              "  </svg>\n",
              "      </button>\n",
              "      \n",
              "  <style>\n",
              "    .colab-df-container {\n",
              "      display:flex;\n",
              "      flex-wrap:wrap;\n",
              "      gap: 12px;\n",
              "    }\n",
              "\n",
              "    .colab-df-convert {\n",
              "      background-color: #E8F0FE;\n",
              "      border: none;\n",
              "      border-radius: 50%;\n",
              "      cursor: pointer;\n",
              "      display: none;\n",
              "      fill: #1967D2;\n",
              "      height: 32px;\n",
              "      padding: 0 0 0 0;\n",
              "      width: 32px;\n",
              "    }\n",
              "\n",
              "    .colab-df-convert:hover {\n",
              "      background-color: #E2EBFA;\n",
              "      box-shadow: 0px 1px 2px rgba(60, 64, 67, 0.3), 0px 1px 3px 1px rgba(60, 64, 67, 0.15);\n",
              "      fill: #174EA6;\n",
              "    }\n",
              "\n",
              "    [theme=dark] .colab-df-convert {\n",
              "      background-color: #3B4455;\n",
              "      fill: #D2E3FC;\n",
              "    }\n",
              "\n",
              "    [theme=dark] .colab-df-convert:hover {\n",
              "      background-color: #434B5C;\n",
              "      box-shadow: 0px 1px 3px 1px rgba(0, 0, 0, 0.15);\n",
              "      filter: drop-shadow(0px 1px 2px rgba(0, 0, 0, 0.3));\n",
              "      fill: #FFFFFF;\n",
              "    }\n",
              "  </style>\n",
              "\n",
              "      <script>\n",
              "        const buttonEl =\n",
              "          document.querySelector('#df-3be83344-bd06-4509-b038-635f78616068 button.colab-df-convert');\n",
              "        buttonEl.style.display =\n",
              "          google.colab.kernel.accessAllowed ? 'block' : 'none';\n",
              "\n",
              "        async function convertToInteractive(key) {\n",
              "          const element = document.querySelector('#df-3be83344-bd06-4509-b038-635f78616068');\n",
              "          const dataTable =\n",
              "            await google.colab.kernel.invokeFunction('convertToInteractive',\n",
              "                                                     [key], {});\n",
              "          if (!dataTable) return;\n",
              "\n",
              "          const docLinkHtml = 'Like what you see? Visit the ' +\n",
              "            '<a target=\"_blank\" href=https://colab.research.google.com/notebooks/data_table.ipynb>data table notebook</a>'\n",
              "            + ' to learn more about interactive tables.';\n",
              "          element.innerHTML = '';\n",
              "          dataTable['output_type'] = 'display_data';\n",
              "          await google.colab.output.renderOutput(dataTable, element);\n",
              "          const docLink = document.createElement('div');\n",
              "          docLink.innerHTML = docLinkHtml;\n",
              "          element.appendChild(docLink);\n",
              "        }\n",
              "      </script>\n",
              "    </div>\n",
              "  </div>\n",
              "  "
            ]
          },
          "metadata": {},
          "execution_count": 100
        }
      ],
      "source": [
        "# Top features using NB and BOW\n",
        "\n",
        "Important_features(BOW, NB_bow)"
      ]
    },
    {
      "cell_type": "markdown",
      "metadata": {
        "id": "j2Dz4ODzcHOC"
      },
      "source": [
        "## TF-IDF"
      ]
    },
    {
      "cell_type": "code",
      "execution_count": 101,
      "metadata": {
        "id": "6Cb7DfrgcHOC",
        "colab": {
          "base_uri": "https://localhost:8080/"
        },
        "outputId": "35e4edf0-aff7-41e0-dce9-a97117ddda30"
      },
      "outputs": [
        {
          "output_type": "stream",
          "name": "stdout",
          "text": [
            "the type of count vectorizer  <class 'scipy.sparse.csr.csr_matrix'>\n",
            "the shape of out text BOW vectorizer  (364159, 3474639)\n",
            "the number of unique words including both unigrams and bigrams  3474639\n"
          ]
        }
      ],
      "source": [
        "## TFidf Vectorizer\n",
        "from sklearn.feature_extraction.text import TfidfVectorizer\n",
        "\n",
        "TfIdf, X = Text_Into_Vector(TfidfVectorizer,data['CleanedText'])"
      ]
    },
    {
      "cell_type": "code",
      "execution_count": 102,
      "metadata": {
        "id": "G4UIs_MccHOC",
        "colab": {
          "base_uri": "https://localhost:8080/"
        },
        "outputId": "a7135a6f-02c0-4aaf-f95e-8dd9a85cb6c5"
      },
      "outputs": [
        {
          "output_type": "execute_result",
          "data": {
            "text/plain": [
              "['aaa',\n",
              " 'aaa aaa',\n",
              " 'aaa able',\n",
              " 'aaa class',\n",
              " 'aaa cola',\n",
              " 'aaa condition',\n",
              " 'aaa dont',\n",
              " 'aaa hockey',\n",
              " 'aaa job',\n",
              " 'aaa magazine',\n",
              " 'aaa plus',\n",
              " 'aaa rating',\n",
              " 'aaa tue',\n",
              " 'aaaa',\n",
              " 'aaaaaaaaagghh',\n",
              " 'aaaaaaarrrrrggghhh',\n",
              " 'aaaaaaarrrrrggghhh dark',\n",
              " 'aaaaaah',\n",
              " 'aaaaaah melt',\n",
              " 'aaaaaahhh']"
            ]
          },
          "metadata": {},
          "execution_count": 102
        }
      ],
      "source": [
        "TfIdf.get_feature_names()[:20]"
      ]
    },
    {
      "cell_type": "code",
      "execution_count": 103,
      "metadata": {
        "id": "roM3OQAGcHOC",
        "colab": {
          "base_uri": "https://localhost:8080/"
        },
        "outputId": "8a1f31fc-0346-4e33-f8cf-7df84a252dca"
      },
      "outputs": [
        {
          "output_type": "execute_result",
          "data": {
            "text/plain": [
              "{'analyzer': 'word',\n",
              " 'binary': False,\n",
              " 'decode_error': 'strict',\n",
              " 'dtype': numpy.float64,\n",
              " 'encoding': 'utf-8',\n",
              " 'input': 'content',\n",
              " 'lowercase': True,\n",
              " 'max_df': 1.0,\n",
              " 'max_features': None,\n",
              " 'min_df': 1,\n",
              " 'ngram_range': (1, 2),\n",
              " 'norm': 'l2',\n",
              " 'preprocessor': None,\n",
              " 'smooth_idf': True,\n",
              " 'stop_words': None,\n",
              " 'strip_accents': None,\n",
              " 'sublinear_tf': False,\n",
              " 'token_pattern': '(?u)\\\\b\\\\w\\\\w+\\\\b',\n",
              " 'tokenizer': None,\n",
              " 'use_idf': True,\n",
              " 'vocabulary': None}"
            ]
          },
          "metadata": {},
          "execution_count": 103
        }
      ],
      "source": [
        "TfIdf.get_params()"
      ]
    },
    {
      "cell_type": "code",
      "execution_count": 113,
      "metadata": {
        "id": "1mKYAOkAcHOD"
      },
      "outputs": [],
      "source": [
        "#split data into train, cross validate and test \n",
        "\n",
        "X_tr, X_cv, X_test, Y_tr, Y_test, Y_cv, X_train, Y_train = Split_data(X, data['Score'])"
      ]
    },
    {
      "cell_type": "code",
      "source": [
        "sm = SMOTE()\n",
        "X_cv,Y_cv = sm.fit_resample(X_cv,Y_cv)\n",
        "X_tr,Y_tr = sm.fit_resample(X_tr,Y_tr)\n",
        "print(Y_cv.value_counts())\n",
        "Y_tr.value_counts()"
      ],
      "metadata": {
        "colab": {
          "base_uri": "https://localhost:8080/"
        },
        "id": "ojSN4zoQ2jio",
        "outputId": "ba3fd311-5bfc-48d4-ae28-27e8db997bc5"
      },
      "execution_count": 114,
      "outputs": [
        {
          "output_type": "stream",
          "name": "stdout",
          "text": [
            "1    67763\n",
            "0    67763\n",
            "Name: Score, dtype: int64\n"
          ]
        },
        {
          "output_type": "execute_result",
          "data": {
            "text/plain": [
              "1    137982\n",
              "0    137982\n",
              "Name: Score, dtype: int64"
            ]
          },
          "metadata": {},
          "execution_count": 114
        }
      ]
    },
    {
      "cell_type": "code",
      "execution_count": 116,
      "metadata": {
        "id": "r1wjbAMNcHOD",
        "colab": {
          "base_uri": "https://localhost:8080/"
        },
        "outputId": "99d93805-7c90-4705-b98a-fd831b81700b"
      },
      "outputs": [
        {
          "output_type": "stream",
          "name": "stdout",
          "text": [
            "X_test, Y_test (120173, 3474639) (120173,)\n",
            "X_tr, Y_tr (275964, 3474639) (275964,)\n",
            "X_cv, Y_cv (135526, 3474639) (135526,)\n",
            "X_Train, Y_Train (243986, 3474639) (243986,)\n"
          ]
        }
      ],
      "source": [
        "print('X_test, Y_test', X_test.shape, Y_test.shape)\n",
        "print('X_tr, Y_tr', X_tr.shape, Y_tr.shape)\n",
        "print('X_cv, Y_cv', X_cv.shape, Y_cv.shape)\n",
        "print('X_Train, Y_Train', X_train.shape, Y_train.shape)"
      ]
    },
    {
      "cell_type": "code",
      "execution_count": 117,
      "metadata": {
        "id": "w5tdgyOucHOD",
        "colab": {
          "base_uri": "https://localhost:8080/"
        },
        "outputId": "ff73815f-5a24-4bea-c1fd-9b0df02b5996"
      },
      "outputs": [
        {
          "output_type": "stream",
          "name": "stdout",
          "text": [
            "Train Data Size  (275964, 3474639)\n",
            "CV Data Size:  (135526, 3474639)\n",
            "Test Data Size:  (120173, 3474639)\n"
          ]
        }
      ],
      "source": [
        "# Normalize Data\n",
        "\n",
        "X_tr, X_cv, X_test = Normalization(X_tr, X_cv, X_test)"
      ]
    },
    {
      "cell_type": "markdown",
      "metadata": {
        "id": "h82PwM-YcHOD"
      },
      "source": [
        "#### Naive bayes for TF-idf"
      ]
    },
    {
      "cell_type": "code",
      "execution_count": 118,
      "metadata": {
        "id": "dxeDLOM1cHOD",
        "colab": {
          "base_uri": "https://localhost:8080/",
          "height": 1000
        },
        "outputId": "1b73807a-53a2-4a27-d809-036b232d9f59"
      },
      "outputs": [
        {
          "output_type": "stream",
          "name": "stdout",
          "text": [
            "10000  ------>  0.9177351161331022\n",
            "5000  ------>  0.9207641565510476\n",
            "1000  ------>  0.9324406927220039\n",
            "500  ------>  0.938226481990539\n",
            "100  ------>  0.9497746530546649\n",
            "50  ------>  0.9534945228430851\n",
            "10  ------>  0.9589242187727157\n",
            "5  ------>  0.9598487668049904\n",
            "1  ------>  0.9576879312340237\n",
            "0.5  ------>  0.953803684724671\n",
            "0.1  ------>  0.934140484724645\n",
            "0.05  ------>  0.9216137115114348\n",
            "0.01  ------>  0.8895261361650801\n",
            "0.005  ------>  0.8763530100231065\n",
            "0.001  ------>  0.8498410645479575\n",
            "0.0005  ------>  0.8402453879980003\n",
            "0.0001  ------>  0.8216007859076191\n",
            "5e-05  ------>  0.8148813940353647\n",
            "1e-05  ------>  0.801664283848583\n",
            "****************************************************************************************************\n",
            "\n",
            " Best alpha Value 5 with highest roc_auc Score is 0.9598487668049904\n",
            "****************************************************************************************************\n"
          ]
        },
        {
          "output_type": "display_data",
          "data": {
            "text/plain": [
              "<Figure size 432x288 with 1 Axes>"
            ],
            "image/png": "[encoded data removed]"
          },
          "metadata": {}
        },
        {
          "output_type": "stream",
          "name": "stdout",
          "text": [
            "****************************************************************************************************\n"
          ]
        },
        {
          "output_type": "display_data",
          "data": {
            "text/plain": [
              "<Figure size 432x288 with 1 Axes>"
            ],
            "image/png": "[encoded data removed]"
          },
          "metadata": {}
        },
        {
          "output_type": "stream",
          "name": "stdout",
          "text": [
            "****************************************************************************************************\n"
          ]
        }
      ],
      "source": [
        "#Training NB model\n",
        "\n",
        "best_alpha_idf = Multinomial_NB(X_tr,X_cv,Y_tr,Y_cv)"
      ]
    },
    {
      "cell_type": "code",
      "execution_count": 119,
      "metadata": {
        "id": "G0YqpspMcHOD",
        "colab": {
          "base_uri": "https://localhost:8080/",
          "height": 596
        },
        "outputId": "99c6c1ac-7e70-4c6a-97e0-fb28eff7ea7a"
      },
      "outputs": [
        {
          "output_type": "stream",
          "name": "stdout",
          "text": [
            "AUC Score 0.9424947876005381\n",
            "**********************************************************************\n"
          ]
        },
        {
          "output_type": "display_data",
          "data": {
            "text/plain": [
              "<Figure size 432x288 with 1 Axes>"
            ],
            "image/png": "[encoded data removed]"
          },
          "metadata": {}
        },
        {
          "output_type": "stream",
          "name": "stdout",
          "text": [
            "macro f1 score for data : 0.750737260951058\n",
            "micro f1 score for data: 0.8208416199978364\n",
            "hamming loss for data: 0.17915838000216355\n",
            "**********************************************************************\n",
            "Precision recall report for data:\n",
            "               precision    recall  f1-score   support\n",
            "\n",
            "           0       0.46      0.93      0.62     18864\n",
            "           1       0.98      0.80      0.88    101309\n",
            "\n",
            "    accuracy                           0.82    120173\n",
            "   macro avg       0.72      0.86      0.75    120173\n",
            "weighted avg       0.90      0.82      0.84    120173\n",
            "\n",
            "**********************************************************************\n"
          ]
        }
      ],
      "source": [
        "# Testing NB Model\n",
        "\n",
        "NB_tfidf, roc_auc_idf = Testing_model(X_tr,Y_tr,X_test,Y_test,best_alpha_idf)"
      ]
    },
    {
      "cell_type": "code",
      "execution_count": 120,
      "metadata": {
        "id": "FDyc1_CJcHOE",
        "colab": {
          "base_uri": "https://localhost:8080/",
          "height": 424
        },
        "outputId": "5c6258fe-7d64-4d8b-98b4-243d86acbe4d"
      },
      "outputs": [
        {
          "output_type": "execute_result",
          "data": {
            "text/plain": [
              "              Pos_Words  Pos_Importance         Neg_Words  Neg_Importance\n",
              "0                 great       -9.218840              like       -8.872524\n",
              "1                  like       -9.278796             taste       -9.122776\n",
              "2                  good       -9.344292           product       -9.190727\n",
              "3                  love       -9.371787             would       -9.191646\n",
              "4                coffee       -9.564105            coffee       -9.443829\n",
              "...                 ...             ...               ...             ...\n",
              "3474634    gotta stacys      -15.110756  photo experience      -15.116239\n",
              "3474635      truck cans      -15.110756    photo expected      -15.116239\n",
              "3474636  gotta starting      -15.110756      photo expect      -15.116239\n",
              "3474637      gotta stay      -15.110756    photo evidence      -15.116239\n",
              "3474638   stirring sits      -15.110756        liver dust      -15.116239\n",
              "\n",
              "[3474639 rows x 4 columns]"
            ],
            "text/html": [
              "\n",
              "  <div id=\"df-5148b09c-062d-47d8-9669-6c6a5a01fe1d\">\n",
              "    <div class=\"colab-df-container\">\n",
              "      <div>\n",
              "<style scoped>\n",
              "    .dataframe tbody tr th:only-of-type {\n",
              "        vertical-align: middle;\n",
              "    }\n",
              "\n",
              "    .dataframe tbody tr th {\n",
              "        vertical-align: top;\n",
              "    }\n",
              "\n",
              "    .dataframe thead th {\n",
              "        text-align: right;\n",
              "    }\n",
              "</style>\n",
              "<table border=\"1\" class=\"dataframe\">\n",
              "  <thead>\n",
              "    <tr style=\"text-align: right;\">\n",
              "      <th></th>\n",
              "      <th>Pos_Words</th>\n",
              "      <th>Pos_Importance</th>\n",
              "      <th>Neg_Words</th>\n",
              "      <th>Neg_Importance</th>\n",
              "    </tr>\n",
              "  </thead>\n",
              "  <tbody>\n",
              "    <tr>\n",
              "      <th>0</th>\n",
              "      <td>great</td>\n",
              "      <td>-9.218840</td>\n",
              "      <td>like</td>\n",
              "      <td>-8.872524</td>\n",
              "    </tr>\n",
              "    <tr>\n",
              "      <th>1</th>\n",
              "      <td>like</td>\n",
              "      <td>-9.278796</td>\n",
              "      <td>taste</td>\n",
              "      <td>-9.122776</td>\n",
              "    </tr>\n",
              "    <tr>\n",
              "      <th>2</th>\n",
              "      <td>good</td>\n",
              "      <td>-9.344292</td>\n",
              "      <td>product</td>\n",
              "      <td>-9.190727</td>\n",
              "    </tr>\n",
              "    <tr>\n",
              "      <th>3</th>\n",
              "      <td>love</td>\n",
              "      <td>-9.371787</td>\n",
              "      <td>would</td>\n",
              "      <td>-9.191646</td>\n",
              "    </tr>\n",
              "    <tr>\n",
              "      <th>4</th>\n",
              "      <td>coffee</td>\n",
              "      <td>-9.564105</td>\n",
              "      <td>coffee</td>\n",
              "      <td>-9.443829</td>\n",
              "    </tr>\n",
              "    <tr>\n",
              "      <th>...</th>\n",
              "      <td>...</td>\n",
              "      <td>...</td>\n",
              "      <td>...</td>\n",
              "      <td>...</td>\n",
              "    </tr>\n",
              "    <tr>\n",
              "      <th>3474634</th>\n",
              "      <td>gotta stacys</td>\n",
              "      <td>-15.110756</td>\n",
              "      <td>photo experience</td>\n",
              "      <td>-15.116239</td>\n",
              "    </tr>\n",
              "    <tr>\n",
              "      <th>3474635</th>\n",
              "      <td>truck cans</td>\n",
              "      <td>-15.110756</td>\n",
              "      <td>photo expected</td>\n",
              "      <td>-15.116239</td>\n",
              "    </tr>\n",
              "    <tr>\n",
              "      <th>3474636</th>\n",
              "      <td>gotta starting</td>\n",
              "      <td>-15.110756</td>\n",
              "      <td>photo expect</td>\n",
              "      <td>-15.116239</td>\n",
              "    </tr>\n",
              "    <tr>\n",
              "      <th>3474637</th>\n",
              "      <td>gotta stay</td>\n",
              "      <td>-15.110756</td>\n",
              "      <td>photo evidence</td>\n",
              "      <td>-15.116239</td>\n",
              "    </tr>\n",
              "    <tr>\n",
              "      <th>3474638</th>\n",
              "      <td>stirring sits</td>\n",
              "      <td>-15.110756</td>\n",
              "      <td>liver dust</td>\n",
              "      <td>-15.116239</td>\n",
              "    </tr>\n",
              "  </tbody>\n",
              "</table>\n",
              "<p>3474639 rows × 4 columns</p>\n",
              "</div>\n",
              "      <button class=\"colab-df-convert\" onclick=\"convertToInteractive('df-5148b09c-062d-47d8-9669-6c6a5a01fe1d')\"\n",
              "              title=\"Convert this dataframe to an interactive table.\"\n",
              "              style=\"display:none;\">\n",
              "        \n",
              "  <svg xmlns=\"http://www.w3.org/2000/svg\" height=\"24px\"viewBox=\"0 0 24 24\"\n",
              "       width=\"24px\">\n",
              "    <path d=\"M0 0h24v24H0V0z\" fill=\"none\"/>\n",
              "    <path d=\"M18.56 5.44l.94 2.06.94-2.06 2.06-.94-2.06-.94-.94-2.06-.94 2.06-2.06.94zm-11 1L8.5 8.5l.94-2.06 2.06-.94-2.06-.94L8.5 2.5l-.94 2.06-2.06.94zm10 10l.94 2.06.94-2.06 2.06-.94-2.06-.94-.94-2.06-.94 2.06-2.06.94z\"/><path d=\"M17.41 7.96l-1.37-1.37c-.4-.4-.92-.59-1.43-.59-.52 0-1.04.2-1.43.59L10.3 9.45l-7.72 7.72c-.78.78-.78 2.05 0 2.83L4 21.41c.39.39.9.59 1.41.59.51 0 1.02-.2 1.41-.59l7.78-7.78 2.81-2.81c.8-.78.8-2.07 0-2.86zM5.41 20L4 18.59l7.72-7.72 1.47 1.35L5.41 20z\"/>\n",
              "  </svg>\n",
              "      </button>\n",
              "      \n",
              "  <style>\n",
              "    .colab-df-container {\n",
              "      display:flex;\n",
              "      flex-wrap:wrap;\n",
              "      gap: 12px;\n",
              "    }\n",
              "\n",
              "    .colab-df-convert {\n",
              "      background-color: #E8F0FE;\n",
              "      border: none;\n",
              "      border-radius: 50%;\n",
              "      cursor: pointer;\n",
              "      display: none;\n",
              "      fill: #1967D2;\n",
              "      height: 32px;\n",
              "      padding: 0 0 0 0;\n",
              "      width: 32px;\n",
              "    }\n",
              "\n",
              "    .colab-df-convert:hover {\n",
              "      background-color: #E2EBFA;\n",
              "      box-shadow: 0px 1px 2px rgba(60, 64, 67, 0.3), 0px 1px 3px 1px rgba(60, 64, 67, 0.15);\n",
              "      fill: #174EA6;\n",
              "    }\n",
              "\n",
              "    [theme=dark] .colab-df-convert {\n",
              "      background-color: #3B4455;\n",
              "      fill: #D2E3FC;\n",
              "    }\n",
              "\n",
              "    [theme=dark] .colab-df-convert:hover {\n",
              "      background-color: #434B5C;\n",
              "      box-shadow: 0px 1px 3px 1px rgba(0, 0, 0, 0.15);\n",
              "      filter: drop-shadow(0px 1px 2px rgba(0, 0, 0, 0.3));\n",
              "      fill: #FFFFFF;\n",
              "    }\n",
              "  </style>\n",
              "\n",
              "      <script>\n",
              "        const buttonEl =\n",
              "          document.querySelector('#df-5148b09c-062d-47d8-9669-6c6a5a01fe1d button.colab-df-convert');\n",
              "        buttonEl.style.display =\n",
              "          google.colab.kernel.accessAllowed ? 'block' : 'none';\n",
              "\n",
              "        async function convertToInteractive(key) {\n",
              "          const element = document.querySelector('#df-5148b09c-062d-47d8-9669-6c6a5a01fe1d');\n",
              "          const dataTable =\n",
              "            await google.colab.kernel.invokeFunction('convertToInteractive',\n",
              "                                                     [key], {});\n",
              "          if (!dataTable) return;\n",
              "\n",
              "          const docLinkHtml = 'Like what you see? Visit the ' +\n",
              "            '<a target=\"_blank\" href=https://colab.research.google.com/notebooks/data_table.ipynb>data table notebook</a>'\n",
              "            + ' to learn more about interactive tables.';\n",
              "          element.innerHTML = '';\n",
              "          dataTable['output_type'] = 'display_data';\n",
              "          await google.colab.output.renderOutput(dataTable, element);\n",
              "          const docLink = document.createElement('div');\n",
              "          docLink.innerHTML = docLinkHtml;\n",
              "          element.appendChild(docLink);\n",
              "        }\n",
              "      </script>\n",
              "    </div>\n",
              "  </div>\n",
              "  "
            ]
          },
          "metadata": {},
          "execution_count": 120
        }
      ],
      "source": [
        "# Top features using NB and tfidf\n",
        "\n",
        "Important_features(TfIdf, NB_tfidf)"
      ]
    },
    {
      "cell_type": "markdown",
      "metadata": {
        "id": "tOuSEzTjcHOE"
      },
      "source": [
        "## Conclusion"
      ]
    },
    {
      "cell_type": "code",
      "execution_count": 121,
      "metadata": {
        "id": "-V1IusfJcHOE",
        "colab": {
          "base_uri": "https://localhost:8080/",
          "height": 151
        },
        "outputId": "c9e95657-7cb3-4004-ce8d-e67d7b2d293d"
      },
      "outputs": [
        {
          "output_type": "display_data",
          "data": {
            "text/plain": [
              "<IPython.core.display.Markdown object>"
            ],
            "text/markdown": "****Final Conclusion for MultiNomialNB Model:****"
          },
          "metadata": {}
        },
        {
          "output_type": "stream",
          "name": "stdout",
          "text": [
            "+------------+---------------+--------------------+--------------------+\n",
            "| Vectorizer |     Model     | Hyperameter(alpha) |   Test Auc Score   |\n",
            "+------------+---------------+--------------------+--------------------+\n",
            "|    BoW     | MultinomialNB |        0.5         | 0.8771026823657794 |\n",
            "|   Tf-Idf   | MultinomialNB |         5          | 0.9424947876005381 |\n",
            "+------------+---------------+--------------------+--------------------+\n"
          ]
        }
      ],
      "source": [
        "from prettytable import PrettyTable\n",
        "\n",
        "x = PrettyTable()\n",
        "x.field_names = [\"Vectorizer\", \"Model\", \"Hyperameter(alpha)\",\"Test Auc Score\"]\n",
        "\n",
        "####################################################################################\n",
        "x.add_row([\"BoW\",\"MultinomialNB\",best_alpha_bow, roc_auc_bow])\n",
        "x.add_row([\"Tf-Idf\",\"MultinomialNB\",best_alpha_idf, roc_auc_idf])\n",
        "\n",
        "####################################################################################\n",
        "from IPython.display import Markdown, display\n",
        "def printmd(string):\n",
        "    display(Markdown(string))\n",
        "    \n",
        "####################################################################################\n",
        "printmd('****Final Conclusion for MultiNomialNB Model:****')\n",
        "print(x)"
      ]
    },
    {
      "cell_type": "markdown",
      "metadata": {
        "id": "N7wWpMr5cHOE"
      },
      "source": [
        "# ============================================================="
      ]
    },
    {
      "cell_type": "markdown",
      "metadata": {
        "id": "d5JXl-tqcHOE"
      },
      "source": [
        "### Individual prediction"
      ]
    },
    {
      "cell_type": "code",
      "execution_count": 124,
      "metadata": {
        "id": "O3GDAkckcHOF",
        "colab": {
          "base_uri": "https://localhost:8080/"
        },
        "outputId": "b9790e9e-bbde-4538-dc99-7a43f280feaf"
      },
      "outputs": [
        {
          "output_type": "stream",
          "name": "stdout",
          "text": [
            "Prediction using BOW: positive review\n",
            "Prediction using TF-Idf: positive review\n"
          ]
        }
      ],
      "source": [
        "# Individual prediction\n",
        "review = \"\"\"Great, healthier alternative to the usual bhujia we Indians are used to having along with our tea or our beer.\n",
        "            Much less salt than traditional tea snacks as well. I love the variety of texture as well with the very \n",
        "            crunchy peas to soft cheese bits, the sesame seed coated snack to good old roasted peanuts. It is pretty \n",
        "            expensive though, at 600rs at a kilo perhaps the most expensive tea snack Ive ever had.\"\"\"\n",
        "\n",
        "print(\"Prediction using BOW:\", Individual_Prediction(BOW, NB_bow, review))\n",
        "print(\"Prediction using TF-Idf:\", Individual_Prediction(TfIdf, NB_tfidf, review))"
      ]
    }
  ],
  "metadata": {
    "kernelspec": {
      "display_name": "Python 3",
      "language": "python",
      "name": "python3"
    },
    "language_info": {
      "codemirror_mode": {
        "name": "ipython",
        "version": 3
      },
      "file_extension": ".py",
      "mimetype": "text/x-python",
      "name": "python",
      "nbconvert_exporter": "python",
      "pygments_lexer": "ipython3",
      "version": "3.8.3"
    },
    "colab": {
      "name": "NLP_Amazon Fine Food Reviews Analysis_Naive_Bayes.ipynb",
      "provenance": []
    }
  },
  "nbformat": 4,
  "nbformat_minor": 0
}